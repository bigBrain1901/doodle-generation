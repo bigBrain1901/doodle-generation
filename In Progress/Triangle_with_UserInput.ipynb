{
  "cells": [
    {
      "cell_type": "markdown",
      "metadata": {
        "id": "TuqHOKSke9Yf"
      },
      "source": [
        "# Installing and importing packages\n"
      ]
    },
    {
      "cell_type": "code",
      "execution_count": 1,
      "metadata": {
        "id": "q1_oGHhBgUPF"
      },
      "outputs": [
        {
          "name": "stderr",
          "output_type": "stream",
          "text": [
            "  WARNING: Failed to write executable - trying to use .deleteme logic\n",
            "ERROR: Could not install packages due to an OSError: [WinError 2] The system cannot find the file specified: 'C:\\\\Python312\\\\Scripts\\\\convert-caffe2-to-onnx.exe' -> 'C:\\\\Python312\\\\Scripts\\\\convert-caffe2-to-onnx.exe.deleteme'\n",
            "\n"
          ]
        }
      ],
      "source": [
        "!pip install -qU svgwrite ndjson torch"
      ]
    },
    {
      "cell_type": "code",
      "execution_count": 244,
      "metadata": {
        "id": "-9qaG5kqf3Le"
      },
      "outputs": [],
      "source": [
        "import requests\n",
        "import ndjson\n",
        "import numpy as np\n",
        "from sklearn.model_selection import train_test_split\n",
        "import torch\n",
        "import torch.nn as nn\n",
        "from torch.utils.data import Dataset, DataLoader, TensorDataset\n",
        "import time\n",
        "import svgwrite\n",
        "from IPython.display import SVG, display, clear_output\n",
        "from tqdm import trange\n",
        "import matplotlib.pyplot as plt"
      ]
    },
    {
      "cell_type": "markdown",
      "metadata": {
        "id": "GKpou1MkfGwm"
      },
      "source": [
        "# Setting pre-train parameters and user-controlled knobs"
      ]
    },
    {
      "cell_type": "code",
      "execution_count": 3,
      "metadata": {
        "id": "7mfLw_2MX20e"
      },
      "outputs": [],
      "source": [
        "device = torch.device('cuda' if torch.cuda.is_available() else 'cpu')\n",
        "\n",
        "dataset_url = 'https://storage.googleapis.com/quickdraw_dataset/full/simplified/triangle.ndjson'\n",
        "max_doodle_len = 5\n",
        "max_stroke_len = 1\n",
        "max_gen_len = 1\n",
        "\n",
        "batch_size = 50\n",
        "lr = 0.001\n",
        "num_epochs = 5\n",
        "hidden_size = 512\n",
        "latent_size = 128\n",
        "num_layers = 6\n",
        "num_heads = 8\n",
        "ff_dim = 2048\n",
        "dropout = 0"
      ]
    },
    {
      "cell_type": "markdown",
      "metadata": {
        "id": "looAqmJWeyQQ"
      },
      "source": [
        "# Util functions for data pre-processing"
      ]
    },
    {
      "cell_type": "code",
      "execution_count": 4,
      "metadata": {
        "id": "u0L-PH36fYF4"
      },
      "outputs": [],
      "source": [
        "def load_data():\n",
        "    response = requests.get(dataset_url)\n",
        "    data = ndjson.loads(response.text)\n",
        "    return data"
      ]
    },
    {
      "cell_type": "code",
      "execution_count": 5,
      "metadata": {
        "id": "3dxOxfhTfyR4"
      },
      "outputs": [],
      "source": [
        "def extract_useful_doodles(data):\n",
        "    useful_doodles = []\n",
        "    for doodle in data:\n",
        "        if doodle['recognized']:\n",
        "            useful_doodles.append(doodle['drawing'])\n",
        "    return useful_doodles"
      ]
    },
    {
      "cell_type": "code",
      "execution_count": 6,
      "metadata": {
        "id": "KmHB50hlgN_2"
      },
      "outputs": [],
      "source": [
        "def zip_strokes(data):\n",
        "    new_data = []\n",
        "    for doodle in data:\n",
        "        new_data.append([[list(x) for x in zip(stroke[0], stroke[1])] for stroke in doodle])\n",
        "    return new_data"
      ]
    },
    {
      "cell_type": "code",
      "execution_count": 7,
      "metadata": {
        "id": "I0yY3ZN9g3U9"
      },
      "outputs": [],
      "source": [
        "def pad_all_doodles(data):\n",
        "    global max_stroke_len\n",
        "    for doodle in data:\n",
        "        max_stroke_len = max(\n",
        "            max_stroke_len,\n",
        "            max([len(stroke) for stroke in doodle])\n",
        "        )\n",
        "\n",
        "    new_data = []\n",
        "    for doodle in data:\n",
        "        new_doodle = []\n",
        "        for stroke in doodle:\n",
        "            new_stroke = np.pad(\n",
        "                stroke,\n",
        "                ((max_stroke_len - len(stroke), 0), (0, 0)),\n",
        "                mode='constant',\n",
        "                constant_values=0\n",
        "            )\n",
        "            new_doodle.append(new_stroke)\n",
        "        new_data.append(np.array(new_doodle))\n",
        "\n",
        "    for index, doodle in enumerate(new_data):\n",
        "        if max_doodle_len <= doodle.shape[0]:\n",
        "            new_data[index] = doodle[doodle.shape[0] - max_doodle_len:]\n",
        "        else:\n",
        "            new_data[index] = np.pad(\n",
        "                doodle,\n",
        "                ((max_doodle_len - doodle.shape[0], 0), (max_stroke_len - doodle.shape[1], 0), (2 - doodle.shape[2], 0))\n",
        "            )\n",
        "\n",
        "    new_data = np.array(new_data)\n",
        "    new_data = new_data.reshape(new_data.shape[0], new_data.shape[1], -1)\n",
        "\n",
        "    return new_data"
      ]
    },
    {
      "cell_type": "markdown",
      "metadata": {
        "id": "b-0jLEL1e2yX"
      },
      "source": [
        "# Util functions for visualizations"
      ]
    },
    {
      "cell_type": "code",
      "execution_count": 8,
      "metadata": {
        "id": "n8wJSbo0gajk"
      },
      "outputs": [],
      "source": [
        "def draw_strokes_real_time(strokes):\n",
        "    strokes = np.flip(strokes, axis=1)\n",
        "\n",
        "    dwg = svgwrite.Drawing(size=(255, 255))\n",
        "    dwg.add(dwg.rect(insert=(0, 0), size=('100%', '100%'), fill='white'))\n",
        "    display(SVG(dwg.tostring()))\n",
        "\n",
        "    idx = 2\n",
        "    for stroke in strokes:\n",
        "        polyline = dwg.polyline([(int(stroke[idx-2]), int(stroke[idx-1]))], stroke=\"black\", fill=\"none\", stroke_width=2)\n",
        "\n",
        "        dwg.add(polyline)\n",
        "\n",
        "        points = [(int(stroke[i*idx]), int(stroke[i*idx+1])) for i in range(1, len(stroke)//2)]\n",
        "        for point in points:\n",
        "            if point == (0, 0): continue\n",
        "            #print(point)\n",
        "            polyline.points.append(point)\n",
        "            display(SVG(dwg.tostring()))\n",
        "            time.sleep(0.03)\n",
        "            clear_output(wait=True)"
      ]
    },
    {
      "cell_type": "code",
      "execution_count": 9,
      "metadata": {
        "id": "Scyc2-T__i3F"
      },
      "outputs": [],
      "source": [
        "def draw_strokes_real_time_for_viz(strokes):\n",
        "    strokes = np.flip(strokes, axis=1)\n",
        "\n",
        "    dwg = svgwrite.Drawing(size=(255, 255))\n",
        "    dwg.add(dwg.rect(insert=(0, 0), size=('100%', '100%'), fill='white'))\n",
        "    display(SVG(dwg.tostring()))\n",
        "\n",
        "    idx = 2\n",
        "    for stroke in strokes[:-1]:\n",
        "        polyline = dwg.polyline([(int(stroke[idx-2]), int(stroke[idx-1]))], stroke=\"black\", fill=\"none\", stroke_width=2)\n",
        "\n",
        "        dwg.add(polyline)\n",
        "\n",
        "        points = [(int(stroke[i*idx]), int(stroke[i*idx+1])) for i in range(1, len(stroke)//2)]\n",
        "        for point in points:\n",
        "            if point == (0, 0): continue\n",
        "            #print(point)\n",
        "            polyline.points.append(point)\n",
        "            display(SVG(dwg.tostring()))\n",
        "            time.sleep(0.03)\n",
        "            clear_output(wait=True)\n",
        "\n",
        "    stroke = strokes[-1]\n",
        "    polyline = dwg.polyline([(int(stroke[idx-2]), int(stroke[idx-1]))], stroke=\"red\", fill=\"none\", stroke_width=2)\n",
        "\n",
        "    dwg.add(polyline)\n",
        "\n",
        "    points = [(int(stroke[i*idx]), int(stroke[i*idx+1])) for i in range(1, len(stroke)//2)]\n",
        "    for point in points:\n",
        "        if point == (0, 0): continue\n",
        "        #print(point)\n",
        "        polyline.points.append(point)\n",
        "        display(SVG(dwg.tostring()))\n",
        "        time.sleep(0.03)\n",
        "        clear_output(wait=True)"
      ]
    },
    {
      "cell_type": "markdown",
      "metadata": {
        "id": "sFMnegGpgm3l"
      },
      "source": [
        "# Import, process and test our dataset"
      ]
    },
    {
      "cell_type": "code",
      "execution_count": 10,
      "metadata": {
        "id": "SMJs3n-ff8Ll"
      },
      "outputs": [],
      "source": [
        "dataset = load_data()"
      ]
    },
    {
      "cell_type": "code",
      "execution_count": 11,
      "metadata": {
        "id": "_roLWdUHbYcB"
      },
      "outputs": [],
      "source": [
        "doodles = extract_useful_doodles(dataset)"
      ]
    },
    {
      "cell_type": "code",
      "execution_count": 12,
      "metadata": {
        "id": "gs-kd5Qfkp3D"
      },
      "outputs": [],
      "source": [
        "doodles = zip_strokes(doodles)\n",
        "\n",
        "# Sanity check\n",
        "assert np.allclose(\n",
        "    np.array([list(x) for x in zip(dataset[0]['drawing'][0][0], dataset[0]['drawing'][0][1])]),\n",
        "    doodles[0][0]\n",
        ")"
      ]
    },
    {
      "cell_type": "code",
      "execution_count": 13,
      "metadata": {
        "id": "_wnQlPr6ktto"
      },
      "outputs": [],
      "source": [
        "doodles = pad_all_doodles(doodles)\n",
        "\n",
        "# Sanity check\n",
        "assert type(doodles[0]) == type(np.array([[]]))"
      ]
    },
    {
      "cell_type": "code",
      "execution_count": 14,
      "metadata": {
        "colab": {
          "base_uri": "https://localhost:8080/",
          "height": 34
        },
        "id": "DAb-rJsjuFar",
        "outputId": "f99a43be-de13-44d2-db33-33da335b7f20"
      },
      "outputs": [
        {
          "data": {
            "text/plain": [
              "(120500, 5, 212)"
            ]
          },
          "metadata": {},
          "output_type": "display_data"
        }
      ],
      "source": [
        "display(doodles.shape)"
      ]
    },
    {
      "cell_type": "code",
      "execution_count": 289,
      "metadata": {
        "colab": {
          "base_uri": "https://localhost:8080/",
          "height": 276
        },
        "id": "s7_Hh9LGglG0",
        "outputId": "5b559587-7265-4ec7-f4c2-e20c13c39784"
      },
      "outputs": [
        {
          "ename": "ValueError",
          "evalue": "step must be greater than zero",
          "output_type": "error",
          "traceback": [
            "\u001b[1;31m---------------------------------------------------------------------------\u001b[0m",
            "\u001b[1;31mValueError\u001b[0m                                Traceback (most recent call last)",
            "Cell \u001b[1;32mIn[289], line 2\u001b[0m\n\u001b[0;32m      1\u001b[0m \u001b[38;5;28;01mfor\u001b[39;00m i \u001b[38;5;129;01min\u001b[39;00m np\u001b[38;5;241m.\u001b[39mrandom\u001b[38;5;241m.\u001b[39mrandint(\u001b[38;5;241m0\u001b[39m, \u001b[38;5;28mlen\u001b[39m(doodles), size\u001b[38;5;241m=\u001b[39m\u001b[38;5;241m10\u001b[39m):\n\u001b[1;32m----> 2\u001b[0m     \u001b[43mdraw_strokes_real_time\u001b[49m\u001b[43m(\u001b[49m\u001b[43mdoodles\u001b[49m\u001b[43m[\u001b[49m\u001b[43mi\u001b[49m\u001b[43m]\u001b[49m\u001b[43m)\u001b[49m\n\u001b[0;32m      3\u001b[0m     time\u001b[38;5;241m.\u001b[39msleep(\u001b[38;5;241m0.5\u001b[39m)\n",
            "Cell \u001b[1;32mIn[8], line 2\u001b[0m, in \u001b[0;36mdraw_strokes_real_time\u001b[1;34m(strokes)\u001b[0m\n\u001b[0;32m      1\u001b[0m \u001b[38;5;28;01mdef\u001b[39;00m \u001b[38;5;21mdraw_strokes_real_time\u001b[39m(strokes):\n\u001b[1;32m----> 2\u001b[0m     strokes \u001b[38;5;241m=\u001b[39m \u001b[43mnp\u001b[49m\u001b[38;5;241;43m.\u001b[39;49m\u001b[43mflip\u001b[49m\u001b[43m(\u001b[49m\u001b[43mstrokes\u001b[49m\u001b[43m,\u001b[49m\u001b[43m \u001b[49m\u001b[43maxis\u001b[49m\u001b[38;5;241;43m=\u001b[39;49m\u001b[38;5;241;43m1\u001b[39;49m\u001b[43m)\u001b[49m\n\u001b[0;32m      4\u001b[0m     dwg \u001b[38;5;241m=\u001b[39m svgwrite\u001b[38;5;241m.\u001b[39mDrawing(size\u001b[38;5;241m=\u001b[39m(\u001b[38;5;241m255\u001b[39m, \u001b[38;5;241m255\u001b[39m))\n\u001b[0;32m      5\u001b[0m     dwg\u001b[38;5;241m.\u001b[39madd(dwg\u001b[38;5;241m.\u001b[39mrect(insert\u001b[38;5;241m=\u001b[39m(\u001b[38;5;241m0\u001b[39m, \u001b[38;5;241m0\u001b[39m), size\u001b[38;5;241m=\u001b[39m(\u001b[38;5;124m'\u001b[39m\u001b[38;5;124m100\u001b[39m\u001b[38;5;124m%\u001b[39m\u001b[38;5;124m'\u001b[39m, \u001b[38;5;124m'\u001b[39m\u001b[38;5;124m100\u001b[39m\u001b[38;5;124m%\u001b[39m\u001b[38;5;124m'\u001b[39m), fill\u001b[38;5;241m=\u001b[39m\u001b[38;5;124m'\u001b[39m\u001b[38;5;124mwhite\u001b[39m\u001b[38;5;124m'\u001b[39m))\n",
            "File \u001b[1;32mc:\\Python312\\Lib\\site-packages\\numpy\\lib\\function_base.py:345\u001b[0m, in \u001b[0;36mflip\u001b[1;34m(m, axis)\u001b[0m\n\u001b[0;32m    343\u001b[0m         indexer[ax] \u001b[38;5;241m=\u001b[39m np\u001b[38;5;241m.\u001b[39ms_[::\u001b[38;5;241m-\u001b[39m\u001b[38;5;241m1\u001b[39m]\n\u001b[0;32m    344\u001b[0m     indexer \u001b[38;5;241m=\u001b[39m \u001b[38;5;28mtuple\u001b[39m(indexer)\n\u001b[1;32m--> 345\u001b[0m \u001b[38;5;28;01mreturn\u001b[39;00m \u001b[43mm\u001b[49m\u001b[43m[\u001b[49m\u001b[43mindexer\u001b[49m\u001b[43m]\u001b[49m\n",
            "\u001b[1;31mValueError\u001b[0m: step must be greater than zero"
          ]
        }
      ],
      "source": [
        "for i in np.random.randint(0, len(doodles), size=10):\n",
        "    draw_strokes_real_time(doodles[i])\n",
        "    time.sleep(0.5)"
      ]
    },
    {
      "cell_type": "markdown",
      "metadata": {
        "id": "iRQLbxXRnsgL"
      },
      "source": [
        "# Train test val split"
      ]
    },
    {
      "cell_type": "code",
      "execution_count": 16,
      "metadata": {
        "id": "SgHgzfUBSKJS"
      },
      "outputs": [],
      "source": [
        "class DoodleDataset(Dataset):\n",
        "    def __init__(self, doodles):\n",
        "        self.doodles = doodles\n",
        "\n",
        "    def __len__(self):\n",
        "        return len(self.doodles)\n",
        "\n",
        "    def __getitem__(self, idx):\n",
        "        # Get a single doodle from the array\n",
        "        doodle = self.doodles[idx]\n",
        "        return doodle"
      ]
    },
    {
      "cell_type": "code",
      "execution_count": 17,
      "metadata": {
        "colab": {
          "base_uri": "https://localhost:8080/"
        },
        "id": "TVRGdNxynvwA",
        "outputId": "636650cf-e627-4174-cf0f-fd7f55939b09"
      },
      "outputs": [
        {
          "name": "stdout",
          "output_type": "stream",
          "text": [
            "train data: 86760\n",
            "test data: 12050\n",
            "val data: 21690\n"
          ]
        }
      ],
      "source": [
        "doodles = torch.tensor(doodles)\n",
        "train_data, test_data = train_test_split(doodles, test_size=0.1, random_state=42)\n",
        "train_data, val_data = train_test_split(train_data, test_size=0.2, random_state=42)\n",
        "\n",
        "print(\"train data:\", len(train_data))\n",
        "print(\"test data:\", len(test_data))\n",
        "print(\"val data:\", len(val_data))"
      ]
    },
    {
      "cell_type": "code",
      "execution_count": 18,
      "metadata": {},
      "outputs": [
        {
          "name": "stdout",
          "output_type": "stream",
          "text": [
            "tensor([[[  0,   0,   0,  ...,   0,   0,   0],\n",
            "         [  0,   0,   0,  ...,   0,   0,   0],\n",
            "         [  0,   0,   0,  ...,   0,   0,   0],\n",
            "         [  0,   0,   0,  ...,   0,   0,   0],\n",
            "         [  0,   0,   0,  ..., 126,   0, 134]],\n",
            "\n",
            "        [[  0,   0,   0,  ...,   0,   0,   0],\n",
            "         [  0,   0,   0,  ...,   0,   0,   0],\n",
            "         [  0,   0,   0,  ...,   0,   0,   0],\n",
            "         [  0,   0,   0,  ...,   0,   0,   0],\n",
            "         [  0,   0,   0,  ..., 195,   5, 136]],\n",
            "\n",
            "        [[  0,   0,   0,  ...,   0,   0,   0],\n",
            "         [  0,   0,   0,  ...,   0,   0,   0],\n",
            "         [  0,   0,   0,  ...,   0,   0,   0],\n",
            "         [  0,   0,   0,  ...,   0,   0,   0],\n",
            "         [  0,   0,   0,  ...,  10,  51,   0]],\n",
            "\n",
            "        ...,\n",
            "\n",
            "        [[  0,   0,   0,  ...,   0,   0,   0],\n",
            "         [  0,   0,   0,  ...,   0,   0,   0],\n",
            "         [  0,   0,   0,  ..., 161,   0, 227],\n",
            "         [  0,   0,   0,  ..., 130, 208, 255],\n",
            "         [  0,   0,   0,  ..., 228, 205, 237]],\n",
            "\n",
            "        [[  0,   0,   0,  ...,   0,   0,   0],\n",
            "         [  0,   0,   0,  ...,   0,   0,   0],\n",
            "         [  0,   0,   0,  ...,   0,   0,   0],\n",
            "         [  0,   0,   0,  ...,   0,   0,   0],\n",
            "         [  0,   0,   0,  ...,  51,  69,  11]],\n",
            "\n",
            "        [[  0,   0,   0,  ...,   0,   0,   0],\n",
            "         [  0,   0,   0,  ...,   0,   0,   0],\n",
            "         [  0,   0,   0,  ...,   0,   0,   0],\n",
            "         [  0,   0,   0,  ...,   0,   0,   0],\n",
            "         [  0,   0,   0,  ...,  41, 157,  10]]], dtype=torch.int32)\n"
          ]
        }
      ],
      "source": [
        "print(train_data)"
      ]
    },
    {
      "cell_type": "code",
      "execution_count": 40,
      "metadata": {},
      "outputs": [
        {
          "name": "stdout",
          "output_type": "stream",
          "text": [
            "tensor([  0,   0,   0,   0,   0,   0,   0,   0,   0,   0,   0,   0,   0,   0,\n",
            "          0,   0,   0,   0,   0,   0,   0,   0,   0,   0,   0,   0,   0,   0,\n",
            "          0,   0,   0,   0,   0,   0,   0,   0,   0,   0,   0,   0,   0,   0,\n",
            "          0,   0,   0,   0,   0,   0,   0,   0,   0,   0,   0,   0,   0,   0,\n",
            "          0,   0,   0,   0,   0,   0,   0,   0,   0,   0,   0,   0,   0,   0,\n",
            "          0,   0,   0,   0,   0,   0,   0,   0,   0,   0,   0,   0,   0,   0,\n",
            "          0,   0,   0,   0,   0,   0,   0,   0,   0,   0,   0,   0,   0,   0,\n",
            "          0,   0,   0,   0,   0,   0,   0,   0,   0,   0,   0,   0,   0,   0,\n",
            "          0,   0,   0,   0,   0,   0,   0,   0,   0,   0,   0,   0,   0,   0,\n",
            "          0,   0,   0,   0,   0,   0,   0,   0,   0,   0,   0,   0,   0,   0,\n",
            "          0,   0,   0,   0,   0,   0,   0,   0,   0,   0,   0,   0,   0,   0,\n",
            "          0,   0,   0,   0,   0,   0,   0,   0,   0,   0,   0,   0,   0,   0,\n",
            "          0,   0,   0,   0,   0,   0,   0,   0,   0,   0,   0,   0,  52,  33,\n",
            "         50,  62,  36, 132,   9, 225,   1, 245,   2, 254,  49, 254, 126, 236,\n",
            "        201, 231, 209, 224, 212, 216, 208, 203,  87,  81,  43,  29,  21,   9,\n",
            "         20,   0], dtype=torch.int32)\n"
          ]
        }
      ],
      "source": [
        "print(test_data[104][4])"
      ]
    },
    {
      "cell_type": "code",
      "execution_count": 19,
      "metadata": {
        "id": "-KaY-yeATLXS"
      },
      "outputs": [],
      "source": [
        "train_loader = DataLoader(train_data, batch_size=batch_size, shuffle=True, drop_last=True)\n",
        "test_loader = DataLoader(test_data, batch_size=batch_size, shuffle=True, drop_last=True)\n",
        "val_loader = DataLoader(val_data, batch_size=batch_size, shuffle=True, drop_last=True)"
      ]
    },
    {
      "cell_type": "code",
      "execution_count": 51,
      "metadata": {},
      "outputs": [
        {
          "name": "stdout",
          "output_type": "stream",
          "text": [
            "torch.Size([50, 5, 212])\n"
          ]
        }
      ],
      "source": [
        "test_data_first_batch = test_data[:50]\n",
        "print(test_data_first_batch.shape)"
      ]
    },
    {
      "cell_type": "markdown",
      "metadata": {
        "id": "ERVdcL0ygznu"
      },
      "source": [
        "# Define the transformer-based encoder"
      ]
    },
    {
      "cell_type": "code",
      "execution_count": 20,
      "metadata": {
        "id": "HACHfdP9q8hk"
      },
      "outputs": [],
      "source": [
        "class Encoder(nn.Module):\n",
        "    def __init__(self, input_size, hidden_size, latent_size):\n",
        "        super(Encoder, self).__init__()\n",
        "        self.rnn = nn.LSTM(input_size, hidden_size, batch_first=True)\n",
        "        self.fc = nn.Linear(hidden_size, latent_size)\n",
        "\n",
        "    def forward(self, x):\n",
        "        # print(\"Encoder input shape\", x.shape)\n",
        "        _, (h, _) = self.rnn(x)\n",
        "        latent_representation = self.fc(h.squeeze(0))\n",
        "        # print(\"Encoder latent state shape\", latent_representation.shape)\n",
        "        return latent_representation"
      ]
    },
    {
      "cell_type": "markdown",
      "metadata": {
        "id": "pR4o7ADbg5D2"
      },
      "source": [
        "# Define the transformer-based decoder"
      ]
    },
    {
      "cell_type": "code",
      "execution_count": 21,
      "metadata": {
        "id": "YAl3Lo0lT4sC"
      },
      "outputs": [],
      "source": [
        "class Decoder(nn.Module):\n",
        "    def __init__(self, input_size, hidden_size, output_size):\n",
        "        super(Decoder, self).__init__()\n",
        "        self.rnn = nn.LSTM(input_size, hidden_size, batch_first=True)\n",
        "        self.fc = nn.Linear(hidden_size, output_size)\n",
        "\n",
        "    def forward(self, x, hidden):\n",
        "        # print(\"Decoder input shape\", x.shape)\n",
        "        output, _ = self.rnn(x, hidden)\n",
        "        output = self.fc(output)\n",
        "        # print(\"Decoder output shape\", output.shape)\n",
        "        return output"
      ]
    },
    {
      "cell_type": "markdown",
      "metadata": {
        "id": "gmHcuBVg3AP1"
      },
      "source": [
        "# Use the encoder and decoder in a model"
      ]
    },
    {
      "cell_type": "code",
      "execution_count": 22,
      "metadata": {
        "id": "PrgvE2C53FA7"
      },
      "outputs": [],
      "source": [
        "class SketchRNN(nn.Module):\n",
        "    def __init__(self, input_size, hidden_size, latent_size, output_size):\n",
        "        super(SketchRNN, self).__init__()\n",
        "        self.encoder = Encoder(input_size, hidden_size, latent_size)\n",
        "        self.decoder = Decoder(latent_size, hidden_size, output_size)\n",
        "\n",
        "    def forward(self, x):\n",
        "        latent_representation = self.encoder(x)\n",
        "        # Replicate latent representation to match batch size of input data\n",
        "        latent_representation = latent_representation.unsqueeze(1).repeat(1, x.size(1), 1)\n",
        "        output = self.decoder(latent_representation, None)\n",
        "        return output"
      ]
    },
    {
      "cell_type": "markdown",
      "metadata": {
        "id": "PkMSsOMbg8Gd"
      },
      "source": [
        "# Define the training function"
      ]
    },
    {
      "cell_type": "code",
      "execution_count": null,
      "metadata": {
        "id": "ZmGRFxT0T--w"
      },
      "outputs": [],
      "source": [
        "def train_model(model, train_loader, criterion, optimizer, val_loader):\n",
        "    losses = []\n",
        "    val_losses = []\n",
        "\n",
        "    for epoch in range(num_epochs):\n",
        "        model.train()\n",
        "        total_loss = 0.0\n",
        "\n",
        "        # Inside the training loop\n",
        "        data_loader_iter = iter(train_loader)\n",
        "        total_batches = len(train_loader)\n",
        "\n",
        "        for _ in trange(total_batches):\n",
        "            strokes = next(data_loader_iter)  # Extract strokes\n",
        "            optimizer.zero_grad()\n",
        "\n",
        "            strokes = strokes.float()  # Convert to float\n",
        "            # print(\"Input data shape\", strokes.shape)\n",
        "\n",
        "            # Obtain output from the model using input data (strokes)\n",
        "            output = model(strokes)\n",
        "\n",
        "            # Reshape output tensor to match the shape of strokes tensor\n",
        "            output = output.view(strokes.shape[0], -1, output.size(2))\n",
        "            # print(\"Output shape\", output.shape)\n",
        "\n",
        "            # Flatten the strokes tensor for the loss calculation\n",
        "            strokes_flat = strokes.view(-1, strokes.size(-1))  # This flattens while preserving the batch size\n",
        "\n",
        "            # Ensure strokes_flat has the same batch size as the output tensor\n",
        "            strokes_flat = strokes_flat[:, :output.size(1) * output.size(2)]  # Adjust sequence length\n",
        "            strokes_flat = strokes_flat.view(strokes.shape[0], -1, strokes.size(-1))\n",
        "            # print(\"Target shape\", strokes_flat.shape)\n",
        "\n",
        "            # Calculate loss and update model parameters\n",
        "            loss = criterion(output.view(-1, output.size(2)), strokes_flat.view(-1, strokes_flat.size(-1)))\n",
        "            loss.backward()\n",
        "            optimizer.step()\n",
        "            total_loss += loss.item()\n",
        "\n",
        "        # Validation\n",
        "        model.eval()  # Set model to evaluation mode\n",
        "        total_val_loss = 0.0\n",
        "        data_loader_iter = iter(train_loader)\n",
        "        total_batches = len(train_loader)\n",
        "        with torch.no_grad():  # Disable gradient tracking for validation\n",
        "            for _ in trange(total_batches):\n",
        "                strokes = next(data_loader_iter)  # Extract strokes\n",
        "                strokes = strokes.float()\n",
        "                output = model(strokes)\n",
        "                output = output.view(strokes.shape[0], -1, output.size(2))\n",
        "                strokes_flat = strokes.view(-1, strokes.size(-1))\n",
        "                strokes_flat = strokes_flat[:, :output.size(1) * output.size(2)]  # Adjust sequence length\n",
        "                strokes_flat = strokes_flat.view(strokes.shape[0], -1, strokes.size(-1))\n",
        "                loss = criterion(output.view(-1, output.size(2)), strokes_flat.view(-1, strokes_flat.size(-1)))\n",
        "                total_val_loss += loss.item()\n",
        "\n",
        "        loss = total_loss / len(train_loader)\n",
        "        losses.append(loss)\n",
        "        val_loss = total_val_loss / len(val_loader)\n",
        "        val_losses.append(val_loss)\n",
        "        print(f\"Epoch {epoch+1}/{num_epochs}, Train Loss: {loss}, Validation Loss: {val_loss}\\n\")\n",
        "\n",
        "    torch.save(model.state_dict(), 'model.pth')\n",
        "    return losses, val_losses"
      ]
    },
    {
      "cell_type": "markdown",
      "metadata": {
        "id": "djBORbM6kIwQ"
      },
      "source": [
        "# Train the model"
      ]
    },
    {
      "cell_type": "code",
      "execution_count": null,
      "metadata": {
        "id": "Q0_GuyKPkHpy",
        "outputId": "05b51759-a51e-4700-b2e3-86128d84010f"
      },
      "outputs": [
        {
          "name": "stderr",
          "output_type": "stream",
          "text": [
            "  0%|          | 0/1735 [00:00<?, ?it/s]"
          ]
        },
        {
          "name": "stderr",
          "output_type": "stream",
          "text": [
            "100%|██████████| 1735/1735 [03:46<00:00,  7.65it/s]\n",
            "100%|██████████| 1735/1735 [00:33<00:00, 51.93it/s]\n"
          ]
        },
        {
          "name": "stdout",
          "output_type": "stream",
          "text": [
            "Epoch 1/100, Train Loss: 246.60153632699928, Validation Loss: 644.9937352098989\n",
            "\n"
          ]
        },
        {
          "name": "stderr",
          "output_type": "stream",
          "text": [
            "100%|██████████| 1735/1735 [03:23<00:00,  8.53it/s]\n",
            "100%|██████████| 1735/1735 [00:33<00:00, 51.94it/s]\n"
          ]
        },
        {
          "name": "stdout",
          "output_type": "stream",
          "text": [
            "Epoch 2/100, Train Loss: 117.94262410364509, Validation Loss: 356.11172012258623\n",
            "\n"
          ]
        },
        {
          "name": "stderr",
          "output_type": "stream",
          "text": [
            "100%|██████████| 1735/1735 [03:03<00:00,  9.44it/s]\n",
            "100%|██████████| 1735/1735 [00:33<00:00, 51.82it/s]\n"
          ]
        },
        {
          "name": "stdout",
          "output_type": "stream",
          "text": [
            "Epoch 3/100, Train Loss: 69.54851389288558, Validation Loss: 217.70592135810412\n",
            "\n"
          ]
        },
        {
          "name": "stderr",
          "output_type": "stream",
          "text": [
            "100%|██████████| 1735/1735 [03:05<00:00,  9.37it/s]\n",
            "100%|██████████| 1735/1735 [00:33<00:00, 51.37it/s]\n"
          ]
        },
        {
          "name": "stdout",
          "output_type": "stream",
          "text": [
            "Epoch 4/100, Train Loss: 47.996702119458995, Validation Loss: 167.45996769030705\n",
            "\n"
          ]
        },
        {
          "name": "stderr",
          "output_type": "stream",
          "text": [
            "100%|██████████| 1735/1735 [03:07<00:00,  9.24it/s]\n",
            "100%|██████████| 1735/1735 [00:33<00:00, 51.72it/s]\n"
          ]
        },
        {
          "name": "stdout",
          "output_type": "stream",
          "text": [
            "Epoch 5/100, Train Loss: 38.15364308865682, Validation Loss: 137.37951804198514\n",
            "\n"
          ]
        },
        {
          "name": "stderr",
          "output_type": "stream",
          "text": [
            "100%|██████████| 1735/1735 [03:07<00:00,  9.27it/s]\n",
            "100%|██████████| 1735/1735 [00:33<00:00, 51.47it/s]\n"
          ]
        },
        {
          "name": "stdout",
          "output_type": "stream",
          "text": [
            "Epoch 6/100, Train Loss: 32.30491153925915, Validation Loss: 117.53505050227493\n",
            "\n"
          ]
        },
        {
          "name": "stderr",
          "output_type": "stream",
          "text": [
            "100%|██████████| 1735/1735 [03:10<00:00,  9.11it/s]\n",
            "100%|██████████| 1735/1735 [00:33<00:00, 51.43it/s]\n"
          ]
        },
        {
          "name": "stdout",
          "output_type": "stream",
          "text": [
            "Epoch 7/100, Train Loss: 28.421066775583053, Validation Loss: 107.14538455945515\n",
            "\n"
          ]
        },
        {
          "name": "stderr",
          "output_type": "stream",
          "text": [
            "100%|██████████| 1735/1735 [03:12<00:00,  9.01it/s]\n",
            "100%|██████████| 1735/1735 [00:33<00:00, 51.56it/s]\n"
          ]
        },
        {
          "name": "stdout",
          "output_type": "stream",
          "text": [
            "Epoch 8/100, Train Loss: 25.577674781073753, Validation Loss: 95.63525966133311\n",
            "\n"
          ]
        },
        {
          "name": "stderr",
          "output_type": "stream",
          "text": [
            "100%|██████████| 1735/1735 [03:13<00:00,  8.94it/s]\n",
            "100%|██████████| 1735/1735 [00:33<00:00, 51.85it/s]\n"
          ]
        },
        {
          "name": "stdout",
          "output_type": "stream",
          "text": [
            "Epoch 9/100, Train Loss: 23.39139425569034, Validation Loss: 88.82759594641988\n",
            "\n"
          ]
        },
        {
          "name": "stderr",
          "output_type": "stream",
          "text": [
            "100%|██████████| 1735/1735 [03:12<00:00,  9.02it/s]\n",
            "100%|██████████| 1735/1735 [00:33<00:00, 51.84it/s]\n"
          ]
        },
        {
          "name": "stdout",
          "output_type": "stream",
          "text": [
            "Epoch 10/100, Train Loss: 21.439331595011335, Validation Loss: 82.98543069103849\n",
            "\n"
          ]
        },
        {
          "name": "stderr",
          "output_type": "stream",
          "text": [
            "100%|██████████| 1735/1735 [03:12<00:00,  9.02it/s]\n",
            "100%|██████████| 1735/1735 [00:33<00:00, 51.96it/s]\n"
          ]
        },
        {
          "name": "stdout",
          "output_type": "stream",
          "text": [
            "Epoch 11/100, Train Loss: 20.07750389582829, Validation Loss: 77.66710636632271\n",
            "\n"
          ]
        },
        {
          "name": "stderr",
          "output_type": "stream",
          "text": [
            "100%|██████████| 1735/1735 [03:11<00:00,  9.06it/s]\n",
            "100%|██████████| 1735/1735 [00:33<00:00, 52.22it/s]\n"
          ]
        },
        {
          "name": "stdout",
          "output_type": "stream",
          "text": [
            "Epoch 12/100, Train Loss: 18.992499962732495, Validation Loss: 72.19584680209259\n",
            "\n"
          ]
        },
        {
          "name": "stderr",
          "output_type": "stream",
          "text": [
            "100%|██████████| 1735/1735 [03:15<00:00,  8.87it/s]\n",
            "100%|██████████| 1735/1735 [00:33<00:00, 51.97it/s]\n"
          ]
        },
        {
          "name": "stdout",
          "output_type": "stream",
          "text": [
            "Epoch 13/100, Train Loss: 17.960452963639405, Validation Loss: 69.98729139993152\n",
            "\n"
          ]
        },
        {
          "name": "stderr",
          "output_type": "stream",
          "text": [
            "100%|██████████| 1735/1735 [03:17<00:00,  8.78it/s]\n",
            "100%|██████████| 1735/1735 [00:33<00:00, 52.36it/s]\n"
          ]
        },
        {
          "name": "stdout",
          "output_type": "stream",
          "text": [
            "Epoch 14/100, Train Loss: 16.980875703443367, Validation Loss: 64.84457523332732\n",
            "\n"
          ]
        },
        {
          "name": "stderr",
          "output_type": "stream",
          "text": [
            "100%|██████████| 1735/1735 [03:20<00:00,  8.66it/s]\n",
            "100%|██████████| 1735/1735 [00:33<00:00, 51.82it/s]\n"
          ]
        },
        {
          "name": "stdout",
          "output_type": "stream",
          "text": [
            "Epoch 15/100, Train Loss: 16.193869469832276, Validation Loss: 61.70665876639632\n",
            "\n"
          ]
        },
        {
          "name": "stderr",
          "output_type": "stream",
          "text": [
            "100%|██████████| 1735/1735 [03:21<00:00,  8.63it/s]\n",
            "100%|██████████| 1735/1735 [00:33<00:00, 51.66it/s]\n"
          ]
        },
        {
          "name": "stdout",
          "output_type": "stream",
          "text": [
            "Epoch 16/100, Train Loss: 15.525277277646904, Validation Loss: 59.719677751113856\n",
            "\n"
          ]
        },
        {
          "name": "stderr",
          "output_type": "stream",
          "text": [
            "100%|██████████| 1735/1735 [03:25<00:00,  8.46it/s]\n",
            "100%|██████████| 1735/1735 [00:33<00:00, 51.61it/s]\n"
          ]
        },
        {
          "name": "stdout",
          "output_type": "stream",
          "text": [
            "Epoch 17/100, Train Loss: 14.841848891200524, Validation Loss: 57.43594909540225\n",
            "\n"
          ]
        },
        {
          "name": "stderr",
          "output_type": "stream",
          "text": [
            "100%|██████████| 1735/1735 [03:28<00:00,  8.31it/s]\n",
            "100%|██████████| 1735/1735 [00:33<00:00, 51.78it/s]\n"
          ]
        },
        {
          "name": "stdout",
          "output_type": "stream",
          "text": [
            "Epoch 18/100, Train Loss: 14.200191178995182, Validation Loss: 55.06533182906224\n",
            "\n"
          ]
        },
        {
          "name": "stderr",
          "output_type": "stream",
          "text": [
            "100%|██████████| 1735/1735 [03:29<00:00,  8.27it/s]\n",
            "100%|██████████| 1735/1735 [00:33<00:00, 51.63it/s]\n"
          ]
        },
        {
          "name": "stdout",
          "output_type": "stream",
          "text": [
            "Epoch 19/100, Train Loss: 13.644884007808454, Validation Loss: 52.53249191301799\n",
            "\n"
          ]
        },
        {
          "name": "stderr",
          "output_type": "stream",
          "text": [
            "100%|██████████| 1735/1735 [03:40<00:00,  7.85it/s]\n",
            "100%|██████████| 1735/1735 [00:33<00:00, 51.33it/s]\n"
          ]
        },
        {
          "name": "stdout",
          "output_type": "stream",
          "text": [
            "Epoch 20/100, Train Loss: 13.35453820077418, Validation Loss: 51.059387048452614\n",
            "\n"
          ]
        },
        {
          "name": "stderr",
          "output_type": "stream",
          "text": [
            "100%|██████████| 1735/1735 [03:32<00:00,  8.18it/s]\n",
            "100%|██████████| 1735/1735 [00:33<00:00, 51.91it/s]\n"
          ]
        },
        {
          "name": "stdout",
          "output_type": "stream",
          "text": [
            "Epoch 21/100, Train Loss: 12.903424281414372, Validation Loss: 49.303438020358186\n",
            "\n"
          ]
        },
        {
          "name": "stderr",
          "output_type": "stream",
          "text": [
            "100%|██████████| 1735/1735 [03:34<00:00,  8.08it/s]\n",
            "100%|██████████| 1735/1735 [00:33<00:00, 51.71it/s]\n"
          ]
        },
        {
          "name": "stdout",
          "output_type": "stream",
          "text": [
            "Epoch 22/100, Train Loss: 12.40099076317779, Validation Loss: 47.27610444802335\n",
            "\n"
          ]
        },
        {
          "name": "stderr",
          "output_type": "stream",
          "text": [
            "100%|██████████| 1735/1735 [03:34<00:00,  8.08it/s]\n",
            "100%|██████████| 1735/1735 [00:34<00:00, 50.97it/s]\n"
          ]
        },
        {
          "name": "stdout",
          "output_type": "stream",
          "text": [
            "Epoch 23/100, Train Loss: 12.057920398217457, Validation Loss: 47.7529631564028\n",
            "\n"
          ]
        },
        {
          "name": "stderr",
          "output_type": "stream",
          "text": [
            "100%|██████████| 1735/1735 [03:36<00:00,  8.03it/s]\n",
            "100%|██████████| 1735/1735 [00:34<00:00, 50.25it/s]\n"
          ]
        },
        {
          "name": "stdout",
          "output_type": "stream",
          "text": [
            "Epoch 24/100, Train Loss: 11.756757474838828, Validation Loss: 45.040942556588256\n",
            "\n"
          ]
        },
        {
          "name": "stderr",
          "output_type": "stream",
          "text": [
            "100%|██████████| 1735/1735 [03:37<00:00,  7.99it/s]\n",
            "100%|██████████| 1735/1735 [00:33<00:00, 51.27it/s]\n"
          ]
        },
        {
          "name": "stdout",
          "output_type": "stream",
          "text": [
            "Epoch 25/100, Train Loss: 11.479324198731085, Validation Loss: 44.56146556290413\n",
            "\n"
          ]
        },
        {
          "name": "stderr",
          "output_type": "stream",
          "text": [
            "100%|██████████| 1735/1735 [03:36<00:00,  8.02it/s]\n",
            "100%|██████████| 1735/1735 [00:33<00:00, 51.81it/s]\n"
          ]
        },
        {
          "name": "stdout",
          "output_type": "stream",
          "text": [
            "Epoch 26/100, Train Loss: 11.161217096697014, Validation Loss: 43.6017734051852\n",
            "\n"
          ]
        },
        {
          "name": "stderr",
          "output_type": "stream",
          "text": [
            "100%|██████████| 1735/1735 [03:36<00:00,  8.01it/s]\n",
            "100%|██████████| 1735/1735 [00:33<00:00, 52.13it/s]\n"
          ]
        },
        {
          "name": "stdout",
          "output_type": "stream",
          "text": [
            "Epoch 27/100, Train Loss: 10.92275036968484, Validation Loss: 41.64139081369096\n",
            "\n"
          ]
        },
        {
          "name": "stderr",
          "output_type": "stream",
          "text": [
            "100%|██████████| 1735/1735 [03:41<00:00,  7.85it/s]\n",
            "100%|██████████| 1735/1735 [00:33<00:00, 52.48it/s]\n"
          ]
        },
        {
          "name": "stdout",
          "output_type": "stream",
          "text": [
            "Epoch 28/100, Train Loss: 10.727612142535383, Validation Loss: 41.6639863503172\n",
            "\n"
          ]
        },
        {
          "name": "stderr",
          "output_type": "stream",
          "text": [
            "100%|██████████| 1735/1735 [03:40<00:00,  7.87it/s]\n",
            "100%|██████████| 1735/1735 [00:33<00:00, 51.67it/s]\n"
          ]
        },
        {
          "name": "stdout",
          "output_type": "stream",
          "text": [
            "Epoch 29/100, Train Loss: 10.385221988941819, Validation Loss: 39.83653585024298\n",
            "\n"
          ]
        },
        {
          "name": "stderr",
          "output_type": "stream",
          "text": [
            "100%|██████████| 1735/1735 [03:40<00:00,  7.87it/s]\n",
            "100%|██████████| 1735/1735 [00:33<00:00, 51.35it/s]\n"
          ]
        },
        {
          "name": "stdout",
          "output_type": "stream",
          "text": [
            "Epoch 30/100, Train Loss: 10.239291448895457, Validation Loss: 39.15341289489429\n",
            "\n"
          ]
        },
        {
          "name": "stderr",
          "output_type": "stream",
          "text": [
            "100%|██████████| 1735/1735 [03:46<00:00,  7.66it/s]\n",
            "100%|██████████| 1735/1735 [00:33<00:00, 51.97it/s]\n"
          ]
        },
        {
          "name": "stdout",
          "output_type": "stream",
          "text": [
            "Epoch 31/100, Train Loss: 9.988205245729826, Validation Loss: 39.128157125609576\n",
            "\n"
          ]
        },
        {
          "name": "stderr",
          "output_type": "stream",
          "text": [
            "100%|██████████| 1735/1735 [03:47<00:00,  7.64it/s]\n",
            "100%|██████████| 1735/1735 [00:33<00:00, 51.28it/s]\n"
          ]
        },
        {
          "name": "stdout",
          "output_type": "stream",
          "text": [
            "Epoch 32/100, Train Loss: 9.854729740901364, Validation Loss: 39.60467625214927\n",
            "\n"
          ]
        },
        {
          "name": "stderr",
          "output_type": "stream",
          "text": [
            "100%|██████████| 1735/1735 [03:54<00:00,  7.40it/s]\n",
            "100%|██████████| 1735/1735 [00:33<00:00, 51.96it/s]\n"
          ]
        },
        {
          "name": "stdout",
          "output_type": "stream",
          "text": [
            "Epoch 33/100, Train Loss: 9.621763567690891, Validation Loss: 36.90942127875313\n",
            "\n"
          ]
        },
        {
          "name": "stderr",
          "output_type": "stream",
          "text": [
            "100%|██████████| 1735/1735 [04:13<00:00,  6.85it/s]\n",
            "100%|██████████| 1735/1735 [00:36<00:00, 47.49it/s]\n"
          ]
        },
        {
          "name": "stdout",
          "output_type": "stream",
          "text": [
            "Epoch 34/100, Train Loss: 9.537765933594718, Validation Loss: 37.40938140833901\n",
            "\n"
          ]
        },
        {
          "name": "stderr",
          "output_type": "stream",
          "text": [
            "100%|██████████| 1735/1735 [04:22<00:00,  6.62it/s]\n",
            "100%|██████████| 1735/1735 [00:36<00:00, 47.93it/s]\n"
          ]
        },
        {
          "name": "stdout",
          "output_type": "stream",
          "text": [
            "Epoch 35/100, Train Loss: 9.347152614318672, Validation Loss: 36.76313750903546\n",
            "\n"
          ]
        },
        {
          "name": "stderr",
          "output_type": "stream",
          "text": [
            "100%|██████████| 1735/1735 [04:06<00:00,  7.04it/s]\n",
            "100%|██████████| 1735/1735 [00:33<00:00, 51.44it/s]\n"
          ]
        },
        {
          "name": "stdout",
          "output_type": "stream",
          "text": [
            "Epoch 36/100, Train Loss: 9.177422511405835, Validation Loss: 35.411582503528024\n",
            "\n"
          ]
        },
        {
          "name": "stderr",
          "output_type": "stream",
          "text": [
            "100%|██████████| 1735/1735 [03:59<00:00,  7.25it/s]\n",
            "100%|██████████| 1735/1735 [00:33<00:00, 51.37it/s]\n"
          ]
        },
        {
          "name": "stdout",
          "output_type": "stream",
          "text": [
            "Epoch 37/100, Train Loss: 9.11383314476233, Validation Loss: 35.15911988022696\n",
            "\n"
          ]
        },
        {
          "name": "stderr",
          "output_type": "stream",
          "text": [
            "100%|██████████| 1735/1735 [04:03<00:00,  7.12it/s]\n",
            "100%|██████████| 1735/1735 [00:33<00:00, 51.38it/s]\n"
          ]
        },
        {
          "name": "stdout",
          "output_type": "stream",
          "text": [
            "Epoch 38/100, Train Loss: 8.986091528296127, Validation Loss: 35.37713810147645\n",
            "\n"
          ]
        },
        {
          "name": "stderr",
          "output_type": "stream",
          "text": [
            "100%|██████████| 1735/1735 [04:01<00:00,  7.20it/s]\n",
            "100%|██████████| 1735/1735 [00:33<00:00, 51.59it/s]\n"
          ]
        },
        {
          "name": "stdout",
          "output_type": "stream",
          "text": [
            "Epoch 39/100, Train Loss: 8.90602430101774, Validation Loss: 34.48021241313591\n",
            "\n"
          ]
        },
        {
          "name": "stderr",
          "output_type": "stream",
          "text": [
            "100%|██████████| 1735/1735 [04:03<00:00,  7.13it/s]\n",
            "100%|██████████| 1735/1735 [00:33<00:00, 51.16it/s]\n"
          ]
        },
        {
          "name": "stdout",
          "output_type": "stream",
          "text": [
            "Epoch 40/100, Train Loss: 8.756398340604491, Validation Loss: 33.98356583046858\n",
            "\n"
          ]
        },
        {
          "name": "stderr",
          "output_type": "stream",
          "text": [
            "100%|██████████| 1735/1735 [04:04<00:00,  7.10it/s]\n",
            "100%|██████████| 1735/1735 [00:33<00:00, 51.63it/s]\n"
          ]
        },
        {
          "name": "stdout",
          "output_type": "stream",
          "text": [
            "Epoch 41/100, Train Loss: 8.645440366563605, Validation Loss: 33.67971911771743\n",
            "\n"
          ]
        },
        {
          "name": "stderr",
          "output_type": "stream",
          "text": [
            "100%|██████████| 1735/1735 [04:05<00:00,  7.06it/s]\n",
            "100%|██████████| 1735/1735 [00:33<00:00, 51.57it/s]\n"
          ]
        },
        {
          "name": "stdout",
          "output_type": "stream",
          "text": [
            "Epoch 42/100, Train Loss: 8.4731510335499, Validation Loss: 32.95041372374079\n",
            "\n"
          ]
        },
        {
          "name": "stderr",
          "output_type": "stream",
          "text": [
            "100%|██████████| 1735/1735 [04:07<00:00,  7.01it/s]\n",
            "100%|██████████| 1735/1735 [00:34<00:00, 50.79it/s]\n"
          ]
        },
        {
          "name": "stdout",
          "output_type": "stream",
          "text": [
            "Epoch 43/100, Train Loss: 8.480393482834874, Validation Loss: 32.59176386696637\n",
            "\n"
          ]
        },
        {
          "name": "stderr",
          "output_type": "stream",
          "text": [
            "100%|██████████| 1735/1735 [04:09<00:00,  6.97it/s]\n",
            "100%|██████████| 1735/1735 [00:33<00:00, 51.87it/s]\n"
          ]
        },
        {
          "name": "stdout",
          "output_type": "stream",
          "text": [
            "Epoch 44/100, Train Loss: 8.27971302260583, Validation Loss: 32.97263562431512\n",
            "\n"
          ]
        },
        {
          "name": "stderr",
          "output_type": "stream",
          "text": [
            "100%|██████████| 1735/1735 [04:05<00:00,  7.06it/s]\n",
            "100%|██████████| 1735/1735 [00:33<00:00, 51.98it/s]\n"
          ]
        },
        {
          "name": "stdout",
          "output_type": "stream",
          "text": [
            "Epoch 45/100, Train Loss: 8.201329026235971, Validation Loss: 31.498159602387673\n",
            "\n"
          ]
        },
        {
          "name": "stderr",
          "output_type": "stream",
          "text": [
            "100%|██████████| 1735/1735 [04:09<00:00,  6.96it/s]\n",
            "100%|██████████| 1735/1735 [00:33<00:00, 51.38it/s]\n"
          ]
        },
        {
          "name": "stdout",
          "output_type": "stream",
          "text": [
            "Epoch 46/100, Train Loss: 8.094248636586522, Validation Loss: 31.459920491687697\n",
            "\n"
          ]
        },
        {
          "name": "stderr",
          "output_type": "stream",
          "text": [
            "100%|██████████| 1735/1735 [04:00<00:00,  7.22it/s]\n",
            "100%|██████████| 1735/1735 [00:34<00:00, 50.87it/s]\n"
          ]
        },
        {
          "name": "stdout",
          "output_type": "stream",
          "text": [
            "Epoch 47/100, Train Loss: 7.980510240741697, Validation Loss: 32.27507982022768\n",
            "\n"
          ]
        },
        {
          "name": "stderr",
          "output_type": "stream",
          "text": [
            "100%|██████████| 1735/1735 [04:00<00:00,  7.21it/s]\n",
            "100%|██████████| 1735/1735 [00:33<00:00, 51.64it/s]\n"
          ]
        },
        {
          "name": "stdout",
          "output_type": "stream",
          "text": [
            "Epoch 48/100, Train Loss: 7.989380658531739, Validation Loss: 30.44842737376277\n",
            "\n"
          ]
        },
        {
          "name": "stderr",
          "output_type": "stream",
          "text": [
            "100%|██████████| 1735/1735 [04:04<00:00,  7.09it/s]\n",
            "100%|██████████| 1735/1735 [00:33<00:00, 51.25it/s]\n"
          ]
        },
        {
          "name": "stdout",
          "output_type": "stream",
          "text": [
            "Epoch 49/100, Train Loss: 7.7759086405509485, Validation Loss: 30.52041074695543\n",
            "\n"
          ]
        },
        {
          "name": "stderr",
          "output_type": "stream",
          "text": [
            "100%|██████████| 1735/1735 [04:03<00:00,  7.12it/s]\n",
            "100%|██████████| 1735/1735 [00:33<00:00, 51.66it/s]\n"
          ]
        },
        {
          "name": "stdout",
          "output_type": "stream",
          "text": [
            "Epoch 50/100, Train Loss: 7.819551309865902, Validation Loss: 30.485487260664307\n",
            "\n"
          ]
        },
        {
          "name": "stderr",
          "output_type": "stream",
          "text": [
            "100%|██████████| 1735/1735 [04:10<00:00,  6.94it/s]\n",
            "100%|██████████| 1735/1735 [00:33<00:00, 51.67it/s]\n"
          ]
        },
        {
          "name": "stdout",
          "output_type": "stream",
          "text": [
            "Epoch 51/100, Train Loss: 7.643152661831991, Validation Loss: 30.227851891352454\n",
            "\n"
          ]
        },
        {
          "name": "stderr",
          "output_type": "stream",
          "text": [
            "100%|██████████| 1735/1735 [04:07<00:00,  7.01it/s]\n",
            "100%|██████████| 1735/1735 [00:33<00:00, 51.54it/s]\n"
          ]
        },
        {
          "name": "stdout",
          "output_type": "stream",
          "text": [
            "Epoch 52/100, Train Loss: 7.626945253064378, Validation Loss: 29.543563757427293\n",
            "\n"
          ]
        },
        {
          "name": "stderr",
          "output_type": "stream",
          "text": [
            "100%|██████████| 1735/1735 [04:04<00:00,  7.09it/s]\n",
            "100%|██████████| 1735/1735 [00:33<00:00, 52.10it/s]\n"
          ]
        },
        {
          "name": "stdout",
          "output_type": "stream",
          "text": [
            "Epoch 53/100, Train Loss: 7.517245302007933, Validation Loss: 29.48872386886121\n",
            "\n"
          ]
        },
        {
          "name": "stderr",
          "output_type": "stream",
          "text": [
            "100%|██████████| 1735/1735 [04:04<00:00,  7.10it/s]\n",
            "100%|██████████| 1735/1735 [00:33<00:00, 51.82it/s]\n"
          ]
        },
        {
          "name": "stdout",
          "output_type": "stream",
          "text": [
            "Epoch 54/100, Train Loss: 7.4563346756981845, Validation Loss: 28.59754809441247\n",
            "\n"
          ]
        },
        {
          "name": "stderr",
          "output_type": "stream",
          "text": [
            "100%|██████████| 1735/1735 [04:08<00:00,  6.98it/s]\n",
            "100%|██████████| 1735/1735 [00:34<00:00, 50.91it/s]\n"
          ]
        },
        {
          "name": "stdout",
          "output_type": "stream",
          "text": [
            "Epoch 55/100, Train Loss: 7.419795580075179, Validation Loss: 28.68227181643867\n",
            "\n"
          ]
        },
        {
          "name": "stderr",
          "output_type": "stream",
          "text": [
            "100%|██████████| 1735/1735 [04:10<00:00,  6.92it/s]\n",
            "100%|██████████| 1735/1735 [00:33<00:00, 51.39it/s]\n"
          ]
        },
        {
          "name": "stdout",
          "output_type": "stream",
          "text": [
            "Epoch 56/100, Train Loss: 7.251346011945081, Validation Loss: 29.16457326142397\n",
            "\n"
          ]
        },
        {
          "name": "stderr",
          "output_type": "stream",
          "text": [
            "100%|██████████| 1735/1735 [04:13<00:00,  6.85it/s]\n",
            "100%|██████████| 1735/1735 [00:34<00:00, 50.85it/s]\n"
          ]
        },
        {
          "name": "stdout",
          "output_type": "stream",
          "text": [
            "Epoch 57/100, Train Loss: 7.244005838251251, Validation Loss: 27.776730160790283\n",
            "\n"
          ]
        },
        {
          "name": "stderr",
          "output_type": "stream",
          "text": [
            "100%|██████████| 1735/1735 [04:14<00:00,  6.83it/s]\n",
            "100%|██████████| 1735/1735 [00:34<00:00, 51.00it/s]\n"
          ]
        },
        {
          "name": "stdout",
          "output_type": "stream",
          "text": [
            "Epoch 58/100, Train Loss: 7.169253913263766, Validation Loss: 28.039124167818947\n",
            "\n"
          ]
        },
        {
          "name": "stderr",
          "output_type": "stream",
          "text": [
            "100%|██████████| 1735/1735 [04:20<00:00,  6.67it/s]\n",
            "100%|██████████| 1735/1735 [00:33<00:00, 51.34it/s]\n"
          ]
        },
        {
          "name": "stdout",
          "output_type": "stream",
          "text": [
            "Epoch 59/100, Train Loss: 7.0677407873466995, Validation Loss: 29.059899643442098\n",
            "\n"
          ]
        },
        {
          "name": "stderr",
          "output_type": "stream",
          "text": [
            "100%|██████████| 1735/1735 [04:20<00:00,  6.67it/s]\n",
            "100%|██████████| 1735/1735 [00:33<00:00, 51.91it/s]\n"
          ]
        },
        {
          "name": "stdout",
          "output_type": "stream",
          "text": [
            "Epoch 60/100, Train Loss: 7.062015039158142, Validation Loss: 27.211298700292996\n",
            "\n"
          ]
        },
        {
          "name": "stderr",
          "output_type": "stream",
          "text": [
            "100%|██████████| 1735/1735 [04:12<00:00,  6.86it/s]\n",
            "100%|██████████| 1735/1735 [00:33<00:00, 51.43it/s]\n"
          ]
        },
        {
          "name": "stdout",
          "output_type": "stream",
          "text": [
            "Epoch 61/100, Train Loss: 6.985444316809047, Validation Loss: 27.891385917575477\n",
            "\n"
          ]
        },
        {
          "name": "stderr",
          "output_type": "stream",
          "text": [
            "100%|██████████| 1735/1735 [04:09<00:00,  6.95it/s]\n",
            "100%|██████████| 1735/1735 [00:33<00:00, 51.22it/s]\n"
          ]
        },
        {
          "name": "stdout",
          "output_type": "stream",
          "text": [
            "Epoch 62/100, Train Loss: 7.020208842335242, Validation Loss: 26.716487315730742\n",
            "\n"
          ]
        },
        {
          "name": "stderr",
          "output_type": "stream",
          "text": [
            "100%|██████████| 1735/1735 [04:09<00:00,  6.96it/s]\n",
            "100%|██████████| 1735/1735 [00:34<00:00, 50.20it/s]\n"
          ]
        },
        {
          "name": "stdout",
          "output_type": "stream",
          "text": [
            "Epoch 63/100, Train Loss: 6.904481191525198, Validation Loss: 27.416018475010542\n",
            "\n"
          ]
        },
        {
          "name": "stderr",
          "output_type": "stream",
          "text": [
            "100%|██████████| 1735/1735 [04:13<00:00,  6.85it/s]\n",
            "100%|██████████| 1735/1735 [00:34<00:00, 50.76it/s]\n"
          ]
        },
        {
          "name": "stdout",
          "output_type": "stream",
          "text": [
            "Epoch 64/100, Train Loss: 6.886485381085179, Validation Loss: 26.973265911635295\n",
            "\n"
          ]
        },
        {
          "name": "stderr",
          "output_type": "stream",
          "text": [
            "100%|██████████| 1735/1735 [04:15<00:00,  6.79it/s]\n",
            "100%|██████████| 1735/1735 [00:33<00:00, 51.56it/s]\n"
          ]
        },
        {
          "name": "stdout",
          "output_type": "stream",
          "text": [
            "Epoch 65/100, Train Loss: 6.762119191661692, Validation Loss: 26.024505307437643\n",
            "\n"
          ]
        },
        {
          "name": "stderr",
          "output_type": "stream",
          "text": [
            "100%|██████████| 1735/1735 [04:10<00:00,  6.92it/s]\n",
            "100%|██████████| 1735/1735 [00:34<00:00, 50.54it/s]\n"
          ]
        },
        {
          "name": "stdout",
          "output_type": "stream",
          "text": [
            "Epoch 66/100, Train Loss: 6.702438451508624, Validation Loss: 26.61672760157332\n",
            "\n"
          ]
        },
        {
          "name": "stderr",
          "output_type": "stream",
          "text": [
            "100%|██████████| 1735/1735 [04:10<00:00,  6.93it/s]\n",
            "100%|██████████| 1735/1735 [00:33<00:00, 52.14it/s]\n"
          ]
        },
        {
          "name": "stdout",
          "output_type": "stream",
          "text": [
            "Epoch 67/100, Train Loss: 6.753422263857267, Validation Loss: 26.702731530055164\n",
            "\n"
          ]
        },
        {
          "name": "stderr",
          "output_type": "stream",
          "text": [
            "100%|██████████| 1735/1735 [04:17<00:00,  6.73it/s]\n",
            "100%|██████████| 1735/1735 [00:49<00:00, 35.01it/s]\n"
          ]
        },
        {
          "name": "stdout",
          "output_type": "stream",
          "text": [
            "Epoch 68/100, Train Loss: 6.756914817634165, Validation Loss: 26.02202940372617\n",
            "\n"
          ]
        },
        {
          "name": "stderr",
          "output_type": "stream",
          "text": [
            "100%|██████████| 1735/1735 [04:18<00:00,  6.70it/s]\n",
            "100%|██████████| 1735/1735 [00:34<00:00, 51.03it/s]\n"
          ]
        },
        {
          "name": "stdout",
          "output_type": "stream",
          "text": [
            "Epoch 69/100, Train Loss: 6.620447150980705, Validation Loss: 25.92178914618547\n",
            "\n"
          ]
        },
        {
          "name": "stderr",
          "output_type": "stream",
          "text": [
            "100%|██████████| 1735/1735 [04:16<00:00,  6.76it/s]\n",
            "100%|██████████| 1735/1735 [00:33<00:00, 51.43it/s]\n"
          ]
        },
        {
          "name": "stdout",
          "output_type": "stream",
          "text": [
            "Epoch 70/100, Train Loss: 6.589169217942428, Validation Loss: 26.032184338734826\n",
            "\n"
          ]
        },
        {
          "name": "stderr",
          "output_type": "stream",
          "text": [
            "100%|██████████| 1735/1735 [04:11<00:00,  6.89it/s]\n",
            "100%|██████████| 1735/1735 [00:33<00:00, 51.11it/s]\n"
          ]
        },
        {
          "name": "stdout",
          "output_type": "stream",
          "text": [
            "Epoch 71/100, Train Loss: 6.547123356580047, Validation Loss: 25.67859176840573\n",
            "\n"
          ]
        },
        {
          "name": "stderr",
          "output_type": "stream",
          "text": [
            "100%|██████████| 1735/1735 [04:20<00:00,  6.66it/s]\n",
            "100%|██████████| 1735/1735 [00:33<00:00, 51.51it/s]\n"
          ]
        },
        {
          "name": "stdout",
          "output_type": "stream",
          "text": [
            "Epoch 72/100, Train Loss: 6.568694328505986, Validation Loss: 26.11252954650421\n",
            "\n"
          ]
        },
        {
          "name": "stderr",
          "output_type": "stream",
          "text": [
            "100%|██████████| 1735/1735 [04:23<00:00,  6.58it/s]\n",
            "100%|██████████| 1735/1735 [00:33<00:00, 51.83it/s]\n"
          ]
        },
        {
          "name": "stdout",
          "output_type": "stream",
          "text": [
            "Epoch 73/100, Train Loss: 6.476864065148301, Validation Loss: 24.412527059022054\n",
            "\n"
          ]
        },
        {
          "name": "stderr",
          "output_type": "stream",
          "text": [
            "100%|██████████| 1735/1735 [04:22<00:00,  6.61it/s]\n",
            "100%|██████████| 1735/1735 [00:33<00:00, 51.31it/s]\n"
          ]
        },
        {
          "name": "stdout",
          "output_type": "stream",
          "text": [
            "Epoch 74/100, Train Loss: 6.3542654874345414, Validation Loss: 25.240363764707816\n",
            "\n"
          ]
        },
        {
          "name": "stderr",
          "output_type": "stream",
          "text": [
            "100%|██████████| 1735/1735 [04:19<00:00,  6.69it/s]\n",
            "100%|██████████| 1735/1735 [00:33<00:00, 51.14it/s]\n"
          ]
        },
        {
          "name": "stdout",
          "output_type": "stream",
          "text": [
            "Epoch 75/100, Train Loss: 6.419959679804205, Validation Loss: 24.65500305211021\n",
            "\n"
          ]
        },
        {
          "name": "stderr",
          "output_type": "stream",
          "text": [
            "100%|██████████| 1735/1735 [04:23<00:00,  6.60it/s]\n",
            "100%|██████████| 1735/1735 [00:33<00:00, 51.60it/s]\n"
          ]
        },
        {
          "name": "stdout",
          "output_type": "stream",
          "text": [
            "Epoch 76/100, Train Loss: 6.396840206965246, Validation Loss: 25.208735953302362\n",
            "\n"
          ]
        },
        {
          "name": "stderr",
          "output_type": "stream",
          "text": [
            "100%|██████████| 1735/1735 [04:20<00:00,  6.67it/s]\n",
            "100%|██████████| 1735/1735 [00:33<00:00, 51.56it/s]\n"
          ]
        },
        {
          "name": "stdout",
          "output_type": "stream",
          "text": [
            "Epoch 77/100, Train Loss: 6.452166465792257, Validation Loss: 24.433502980798277\n",
            "\n"
          ]
        },
        {
          "name": "stderr",
          "output_type": "stream",
          "text": [
            "100%|██████████| 1735/1735 [04:17<00:00,  6.75it/s]\n",
            "100%|██████████| 1735/1735 [00:33<00:00, 51.82it/s]\n"
          ]
        },
        {
          "name": "stdout",
          "output_type": "stream",
          "text": [
            "Epoch 78/100, Train Loss: 6.284079778984576, Validation Loss: 24.04076291727414\n",
            "\n"
          ]
        },
        {
          "name": "stderr",
          "output_type": "stream",
          "text": [
            "100%|██████████| 1735/1735 [04:25<00:00,  6.54it/s]\n",
            "100%|██████████| 1735/1735 [00:34<00:00, 50.95it/s]\n"
          ]
        },
        {
          "name": "stdout",
          "output_type": "stream",
          "text": [
            "Epoch 79/100, Train Loss: 6.20923554821729, Validation Loss: 23.943953401221965\n",
            "\n"
          ]
        },
        {
          "name": "stderr",
          "output_type": "stream",
          "text": [
            "100%|██████████| 1735/1735 [04:25<00:00,  6.54it/s]\n",
            "100%|██████████| 1735/1735 [00:34<00:00, 49.71it/s]\n"
          ]
        },
        {
          "name": "stdout",
          "output_type": "stream",
          "text": [
            "Epoch 80/100, Train Loss: 6.205002106575869, Validation Loss: 24.201392803126065\n",
            "\n"
          ]
        },
        {
          "name": "stderr",
          "output_type": "stream",
          "text": [
            "100%|██████████| 1735/1735 [04:20<00:00,  6.65it/s]\n",
            "100%|██████████| 1735/1735 [00:34<00:00, 50.44it/s]\n"
          ]
        },
        {
          "name": "stdout",
          "output_type": "stream",
          "text": [
            "Epoch 81/100, Train Loss: 6.236710691452027, Validation Loss: 23.75942882214077\n",
            "\n"
          ]
        },
        {
          "name": "stderr",
          "output_type": "stream",
          "text": [
            "100%|██████████| 1735/1735 [04:23<00:00,  6.58it/s]\n",
            "100%|██████████| 1735/1735 [00:33<00:00, 51.24it/s]\n"
          ]
        },
        {
          "name": "stdout",
          "output_type": "stream",
          "text": [
            "Epoch 82/100, Train Loss: 6.13503762404582, Validation Loss: 23.7634297766256\n",
            "\n"
          ]
        },
        {
          "name": "stderr",
          "output_type": "stream",
          "text": [
            "100%|██████████| 1735/1735 [04:23<00:00,  6.58it/s]\n",
            "100%|██████████| 1735/1735 [00:33<00:00, 51.30it/s]\n"
          ]
        },
        {
          "name": "stdout",
          "output_type": "stream",
          "text": [
            "Epoch 83/100, Train Loss: 6.1317028953980985, Validation Loss: 23.675956684227078\n",
            "\n"
          ]
        },
        {
          "name": "stderr",
          "output_type": "stream",
          "text": [
            "100%|██████████| 1735/1735 [04:26<00:00,  6.51it/s]\n",
            "100%|██████████| 1735/1735 [00:34<00:00, 50.02it/s]\n"
          ]
        },
        {
          "name": "stdout",
          "output_type": "stream",
          "text": [
            "Epoch 84/100, Train Loss: 6.042319578258724, Validation Loss: 23.70679433846859\n",
            "\n"
          ]
        },
        {
          "name": "stderr",
          "output_type": "stream",
          "text": [
            "100%|██████████| 1735/1735 [04:24<00:00,  6.56it/s]\n",
            "100%|██████████| 1735/1735 [00:33<00:00, 51.70it/s]\n"
          ]
        },
        {
          "name": "stdout",
          "output_type": "stream",
          "text": [
            "Epoch 85/100, Train Loss: 6.11399193675786, Validation Loss: 23.735904118755947\n",
            "\n"
          ]
        },
        {
          "name": "stderr",
          "output_type": "stream",
          "text": [
            "100%|██████████| 1735/1735 [04:28<00:00,  6.46it/s]\n",
            "100%|██████████| 1735/1735 [00:34<00:00, 50.10it/s]\n"
          ]
        },
        {
          "name": "stdout",
          "output_type": "stream",
          "text": [
            "Epoch 86/100, Train Loss: 6.042913436065146, Validation Loss: 23.179456700353644\n",
            "\n"
          ]
        },
        {
          "name": "stderr",
          "output_type": "stream",
          "text": [
            "100%|██████████| 1735/1735 [04:35<00:00,  6.29it/s]\n",
            "100%|██████████| 1735/1735 [00:34<00:00, 50.63it/s]\n"
          ]
        },
        {
          "name": "stdout",
          "output_type": "stream",
          "text": [
            "Epoch 87/100, Train Loss: 6.043020206500886, Validation Loss: 23.317176651459093\n",
            "\n"
          ]
        },
        {
          "name": "stderr",
          "output_type": "stream",
          "text": [
            "100%|██████████| 1735/1735 [04:32<00:00,  6.36it/s]\n",
            "100%|██████████| 1735/1735 [00:34<00:00, 50.34it/s]\n"
          ]
        },
        {
          "name": "stdout",
          "output_type": "stream",
          "text": [
            "Epoch 88/100, Train Loss: 6.042063762818702, Validation Loss: 23.290406201232663\n",
            "\n"
          ]
        },
        {
          "name": "stderr",
          "output_type": "stream",
          "text": [
            "100%|██████████| 1735/1735 [04:27<00:00,  6.48it/s]\n",
            "100%|██████████| 1735/1735 [00:33<00:00, 51.26it/s]\n"
          ]
        },
        {
          "name": "stdout",
          "output_type": "stream",
          "text": [
            "Epoch 89/100, Train Loss: 5.970884582151253, Validation Loss: 23.28769098143104\n",
            "\n"
          ]
        },
        {
          "name": "stderr",
          "output_type": "stream",
          "text": [
            "100%|██████████| 1735/1735 [04:31<00:00,  6.40it/s]\n",
            "100%|██████████| 1735/1735 [00:34<00:00, 50.53it/s]\n"
          ]
        },
        {
          "name": "stdout",
          "output_type": "stream",
          "text": [
            "Epoch 90/100, Train Loss: 6.048443544014043, Validation Loss: 23.01853786770246\n",
            "\n"
          ]
        },
        {
          "name": "stderr",
          "output_type": "stream",
          "text": [
            "100%|██████████| 1735/1735 [04:31<00:00,  6.39it/s]\n",
            "100%|██████████| 1735/1735 [00:35<00:00, 49.50it/s]\n"
          ]
        },
        {
          "name": "stdout",
          "output_type": "stream",
          "text": [
            "Epoch 91/100, Train Loss: 5.91290774015597, Validation Loss: 22.709825167204436\n",
            "\n"
          ]
        },
        {
          "name": "stderr",
          "output_type": "stream",
          "text": [
            "100%|██████████| 1735/1735 [04:31<00:00,  6.40it/s]\n",
            "100%|██████████| 1735/1735 [00:34<00:00, 50.85it/s]\n"
          ]
        },
        {
          "name": "stdout",
          "output_type": "stream",
          "text": [
            "Epoch 92/100, Train Loss: 5.881147717055395, Validation Loss: 22.818592998777746\n",
            "\n"
          ]
        },
        {
          "name": "stderr",
          "output_type": "stream",
          "text": [
            "100%|██████████| 1735/1735 [04:34<00:00,  6.33it/s]\n",
            "100%|██████████| 1735/1735 [00:35<00:00, 49.48it/s]\n"
          ]
        },
        {
          "name": "stdout",
          "output_type": "stream",
          "text": [
            "Epoch 93/100, Train Loss: 5.8808032170496345, Validation Loss: 23.392148191328687\n",
            "\n"
          ]
        },
        {
          "name": "stderr",
          "output_type": "stream",
          "text": [
            "100%|██████████| 1735/1735 [04:39<00:00,  6.22it/s]\n",
            "100%|██████████| 1735/1735 [00:36<00:00, 47.93it/s]\n"
          ]
        },
        {
          "name": "stdout",
          "output_type": "stream",
          "text": [
            "Epoch 94/100, Train Loss: 5.913856241682421, Validation Loss: 23.13556186541674\n",
            "\n"
          ]
        },
        {
          "name": "stderr",
          "output_type": "stream",
          "text": [
            "100%|██████████| 1735/1735 [04:46<00:00,  6.06it/s]\n",
            "100%|██████████| 1735/1735 [00:34<00:00, 49.86it/s]\n"
          ]
        },
        {
          "name": "stdout",
          "output_type": "stream",
          "text": [
            "Epoch 95/100, Train Loss: 5.817894090767896, Validation Loss: 23.456096741674127\n",
            "\n"
          ]
        },
        {
          "name": "stderr",
          "output_type": "stream",
          "text": [
            "100%|██████████| 1735/1735 [04:42<00:00,  6.15it/s]\n",
            "100%|██████████| 1735/1735 [00:34<00:00, 50.04it/s]\n"
          ]
        },
        {
          "name": "stdout",
          "output_type": "stream",
          "text": [
            "Epoch 96/100, Train Loss: 5.779908377567698, Validation Loss: 22.82883890561639\n",
            "\n"
          ]
        },
        {
          "name": "stderr",
          "output_type": "stream",
          "text": [
            "100%|██████████| 1735/1735 [04:42<00:00,  6.15it/s]\n",
            "100%|██████████| 1735/1735 [00:35<00:00, 49.48it/s]\n"
          ]
        },
        {
          "name": "stdout",
          "output_type": "stream",
          "text": [
            "Epoch 97/100, Train Loss: 5.716994540629538, Validation Loss: 22.500582557352256\n",
            "\n"
          ]
        },
        {
          "name": "stderr",
          "output_type": "stream",
          "text": [
            "100%|██████████| 1735/1735 [04:42<00:00,  6.14it/s]\n",
            "100%|██████████| 1735/1735 [00:35<00:00, 49.14it/s]\n"
          ]
        },
        {
          "name": "stdout",
          "output_type": "stream",
          "text": [
            "Epoch 98/100, Train Loss: 5.666507089515928, Validation Loss: 22.112648400643682\n",
            "\n"
          ]
        },
        {
          "name": "stderr",
          "output_type": "stream",
          "text": [
            "100%|██████████| 1735/1735 [04:47<00:00,  6.04it/s]\n",
            "100%|██████████| 1735/1735 [00:36<00:00, 47.88it/s]\n"
          ]
        },
        {
          "name": "stdout",
          "output_type": "stream",
          "text": [
            "Epoch 99/100, Train Loss: 5.71665120537068, Validation Loss: 22.248297904985883\n",
            "\n"
          ]
        },
        {
          "name": "stderr",
          "output_type": "stream",
          "text": [
            "100%|██████████| 1735/1735 [04:42<00:00,  6.14it/s]\n",
            "100%|██████████| 1735/1735 [00:34<00:00, 50.84it/s]"
          ]
        },
        {
          "name": "stdout",
          "output_type": "stream",
          "text": [
            "Epoch 100/100, Train Loss: 5.714131714218975, Validation Loss: 22.19399807029178\n",
            "\n"
          ]
        },
        {
          "name": "stderr",
          "output_type": "stream",
          "text": [
            "\n"
          ]
        }
      ],
      "source": [
        "num_epochs = 100\n",
        "input_size  = doodles.shape[-1]\n",
        "output_size = doodles.shape[-1]\n",
        "\n",
        "model = SketchRNN(input_size=input_size, hidden_size=hidden_size, latent_size=latent_size, output_size=output_size)\n",
        "\n",
        "criterion = nn.MSELoss()\n",
        "optimizer = torch.optim.Adam(model.parameters(), lr=lr)\n",
        "\n",
        "losses, val_losses = train_model(model, train_loader, criterion, optimizer, val_loader)"
      ]
    },
    {
      "cell_type": "markdown",
      "metadata": {
        "id": "vLW2SPCPhEAm"
      },
      "source": [
        "# Set the models to eval, and run tests"
      ]
    },
    {
      "cell_type": "code",
      "execution_count": 29,
      "metadata": {
        "id": "uAJYyDIt_i3O"
      },
      "outputs": [],
      "source": [
        "def test_model(model, test_loader, criterion):\n",
        "    # Test\n",
        "    model.eval()  # Set model to evaluation mode\n",
        "\n",
        "    total_test_loss = 0.0\n",
        "    with torch.no_grad():  # Disable gradient tracking for validation\n",
        "        for batch in test_loader:\n",
        "            strokes = batch.float()\n",
        "            output = model(strokes)\n",
        "            output = output.view(strokes.shape[0], -1, output.size(2))\n",
        "            strokes_flat = strokes.view(-1, strokes.size(-1))\n",
        "            strokes_flat = strokes_flat[:, :output.size(1) * output.size(2)]  # Adjust sequence length\n",
        "            strokes_flat = strokes_flat.view(strokes.shape[0], -1, strokes.size(-1))\n",
        "            loss = criterion(output.view(-1, output.size(2)), strokes_flat.view(-1, strokes_flat.size(-1)))\n",
        "            total_test_loss += loss.item()\n",
        "\n",
        "    test_loss = total_test_loss / len(test_loader)\n",
        "    print(f\"Test Loss: {test_loss}\\n\")\n",
        "    return test_loss"
      ]
    },
    {
      "cell_type": "code",
      "execution_count": null,
      "metadata": {
        "id": "1iKt-73P_i3P",
        "outputId": "693c6bee-ff8f-49ce-8a71-3696c341ee7c"
      },
      "outputs": [
        {
          "ename": "NameError",
          "evalue": "name 'model' is not defined",
          "output_type": "error",
          "traceback": [
            "\u001b[1;31m---------------------------------------------------------------------------\u001b[0m",
            "\u001b[1;31mNameError\u001b[0m                                 Traceback (most recent call last)",
            "Cell \u001b[1;32mIn[23], line 1\u001b[0m\n\u001b[1;32m----> 1\u001b[0m test_loss \u001b[38;5;241m=\u001b[39m test_model(\u001b[43mmodel\u001b[49m, test_loader, criterion)\n",
            "\u001b[1;31mNameError\u001b[0m: name 'model' is not defined"
          ]
        }
      ],
      "source": [
        "test_loss = test_model(model, test_loader, criterion)"
      ]
    },
    {
      "cell_type": "markdown",
      "metadata": {
        "id": "o_5tAYrp_i3P"
      },
      "source": [
        "# Plots to visualize the training process"
      ]
    },
    {
      "cell_type": "code",
      "execution_count": null,
      "metadata": {
        "id": "-Cmfdn1k_i3P",
        "outputId": "24d88728-d95f-41e4-c527-8e6b372e7507"
      },
      "outputs": [
        {
          "data": {
            "image/png": "[encoded data removed]",
            "text/plain": [
              "<Figure size 640x480 with 1 Axes>"
            ]
          },
          "metadata": {},
          "output_type": "display_data"
        }
      ],
      "source": [
        "# Plot the losses\n",
        "import matplotlib.pyplot as plt\n",
        "\n",
        "plt.plot(losses, label='Train Loss')\n",
        "plt.plot(val_losses, label='Val Loss')\n",
        "plt.plot([test_loss]*num_epochs, label='Test Loss')\n",
        "plt.xlabel('Epoch')\n",
        "plt.ylabel('Loss')\n",
        "plt.title('Training and Validation Losses')\n",
        "plt.legend()\n",
        "plt.show()"
      ]
    },
    {
      "cell_type": "markdown",
      "metadata": {},
      "source": [
        "# User Input"
      ]
    },
    {
      "cell_type": "code",
      "execution_count": 108,
      "metadata": {},
      "outputs": [],
      "source": [
        "from IPython.display import display, HTML, Javascript, JSON"
      ]
    },
    {
      "cell_type": "code",
      "execution_count": 398,
      "metadata": {},
      "outputs": [
        {
          "data": {
            "text/html": [
              "\n",
              "    <canvas id=\"canvas\" width=\"255\" height=\"255\" style=\"border:1px solid #000000; background-color: white;\"></canvas>\n",
              "    <button id=\"saveBtn\">Save Drawing</button>\n",
              "    <div id=\"strokesDisplay\"></div>\n",
              "    <script>\n",
              "    (function() {\n",
              "        const canvas = document.getElementById('canvas');\n",
              "        const ctx = canvas.getContext('2d');\n",
              "        ctx.lineWidth = 2;\n",
              "        ctx.strokeStyle = \"black\";\n",
              "        ctx.lineCap = 'round';\n",
              "\n",
              "        let isDrawing = false;\n",
              "        let strokes = [];\n",
              "\n",
              "        canvas.addEventListener('mousedown', function(e) {\n",
              "            isDrawing = true;\n",
              "            const pos = getMousePos(e);\n",
              "            strokes.push([pos.x, pos.y]);\n",
              "            ctx.beginPath();\n",
              "            ctx.moveTo(pos.x, pos.y);\n",
              "        });\n",
              "\n",
              "        canvas.addEventListener('mousemove', function(e) {\n",
              "            if (isDrawing) {\n",
              "                const pos = getMousePos(e);\n",
              "                strokes.push([pos.x, pos.y]);\n",
              "                ctx.lineTo(pos.x, pos.y);\n",
              "                ctx.stroke();\n",
              "            }\n",
              "        });\n",
              "\n",
              "        canvas.addEventListener('mouseup', function(e) {\n",
              "            isDrawing = false;\n",
              "            const strokesDisplay = document.getElementById('strokesDisplay');\n",
              "            strokesDisplay.innerHTML = \"<b>Strokes:</b><br>\" + JSON.stringify(strokes);\n",
              "            // Send strokes to Python kernel\n",
              "            const command = 'save_strokes = ' + JSON.stringify(strokes);\n",
              "            const kernel = IPython.notebook.kernel;\n",
              "            kernel.execute(command);\n",
              "        });\n",
              "\n",
              "        canvas.addEventListener('mouseleave', function(e) {\n",
              "            isDrawing = false;\n",
              "        });\n",
              "\n",
              "        function getMousePos(evt) {\n",
              "            const rect = canvas.getBoundingClientRect();\n",
              "            return {\n",
              "                x: evt.clientX - rect.left,\n",
              "                y: evt.clientY - rect.top\n",
              "            };\n",
              "        }\n",
              "        document.getElementById('saveBtn').addEventListener('click', function() {\n",
              "            const strokesDisplay = document.getElementById('strokesDisplay');\n",
              "            strokesDisplay.innerHTML = \"<b>Strokes:</b><br>\" + JSON.stringify(strokes);\n",
              "            save_strokes = strokes;  // Update the global variable\n",
              "            IPython.notebook.kernel.execute('save_strokes = ' + JSON.stringify(strokes));\n",
              "            strokes = [];\n",
              "            ctx.clearRect(0, 0, canvas.width, canvas.height);\n",
              "        });\n",
              "    })();\n",
              "    </script>\n",
              "    "
            ],
            "text/plain": [
              "<IPython.core.display.HTML object>"
            ]
          },
          "metadata": {},
          "output_type": "display_data"
        }
      ],
      "source": [
        "save_strokes = []\n",
        "\n",
        "def display_canvas(width=255, height=255, line_width=2):\n",
        "    global save_strokes\n",
        "    \"\"\"Renders an HTML canvas in the Jupyter notebook with drawing and save functionality.\"\"\"\n",
        "    html_template = f\"\"\"\n",
        "    <canvas id=\"canvas\" width=\"{width}\" height=\"{height}\" style=\"border:1px solid #000000; background-color: white;\"></canvas>\n",
        "    <button id=\"saveBtn\">Save Drawing</button>\n",
        "    <div id=\"strokesDisplay\"></div>\n",
        "    <script>\n",
        "    (function() {{\n",
        "        const canvas = document.getElementById('canvas');\n",
        "        const ctx = canvas.getContext('2d');\n",
        "        ctx.lineWidth = {line_width};\n",
        "        ctx.strokeStyle = \"black\";\n",
        "        ctx.lineCap = 'round';\n",
        "\n",
        "        let isDrawing = false;\n",
        "        let strokes = [];\n",
        "\n",
        "        canvas.addEventListener('mousedown', function(e) {{\n",
        "            isDrawing = true;\n",
        "            const pos = getMousePos(e);\n",
        "            strokes.push([pos.x, pos.y]);\n",
        "            ctx.beginPath();\n",
        "            ctx.moveTo(pos.x, pos.y);\n",
        "        }});\n",
        "\n",
        "        canvas.addEventListener('mousemove', function(e) {{\n",
        "            if (isDrawing) {{\n",
        "                const pos = getMousePos(e);\n",
        "                strokes.push([pos.x, pos.y]);\n",
        "                ctx.lineTo(pos.x, pos.y);\n",
        "                ctx.stroke();\n",
        "            }}\n",
        "        }});\n",
        "\n",
        "        canvas.addEventListener('mouseup', function(e) {{\n",
        "            isDrawing = false;\n",
        "            const strokesDisplay = document.getElementById('strokesDisplay');\n",
        "            strokesDisplay.innerHTML = \"<b>Strokes:</b><br>\" + JSON.stringify(strokes);\n",
        "            // Send strokes to Python kernel\n",
        "            const command = 'save_strokes = ' + JSON.stringify(strokes);\n",
        "            const kernel = IPython.notebook.kernel;\n",
        "            kernel.execute(command);\n",
        "        }});\n",
        "\n",
        "        canvas.addEventListener('mouseleave', function(e) {{\n",
        "            isDrawing = false;\n",
        "        }});\n",
        "\n",
        "        function getMousePos(evt) {{\n",
        "            const rect = canvas.getBoundingClientRect();\n",
        "            return {{\n",
        "                x: evt.clientX - rect.left,\n",
        "                y: evt.clientY - rect.top\n",
        "            }};\n",
        "        }}\n",
        "        document.getElementById('saveBtn').addEventListener('click', function() {{\n",
        "            const strokesDisplay = document.getElementById('strokesDisplay');\n",
        "            strokesDisplay.innerHTML = \"<b>Strokes:</b><br>\" + JSON.stringify(strokes);\n",
        "            save_strokes = strokes;  // Update the global variable\n",
        "            IPython.notebook.kernel.execute('save_strokes = ' + JSON.stringify(strokes));\n",
        "            strokes = [];\n",
        "            ctx.clearRect(0, 0, canvas.width, canvas.height);\n",
        "        }});\n",
        "    }})();\n",
        "    </script>\n",
        "    \"\"\"\n",
        "    display(HTML(html_template))\n",
        "\n",
        "# Display the drawing canvas with save functionality\n",
        "display_canvas()"
      ]
    },
    {
      "cell_type": "code",
      "execution_count": 399,
      "metadata": {},
      "outputs": [
        {
          "name": "stdout",
          "output_type": "stream",
          "text": [
            "[[25.200000762939453, 91.2001953125], [28.200000762939453, 91.2001953125], [36.20000076293945, 91.2001953125], [53.20000076293945, 91.2001953125], [71.20000076293945, 88.2001953125], [91.20000076293945, 83.2001953125], [106.20000076293945, 79.2001953125], [117.20000076293945, 75.2001953125], [131.20000076293945, 72.2001953125], [146.20000076293945, 70.2001953125], [161.20000076293945, 67.2001953125], [175.20000076293945, 65.2001953125], [182.20000076293945, 63.2001953125], [188.20000076293945, 62.2001953125], [193.20000076293945, 61.2001953125], [197.20000076293945, 61.2001953125], [201.20000076293945, 61.2001953125], [205.20000076293945, 60.2001953125], [207.20000076293945, 59.2001953125], [210.20000076293945, 59.2001953125], [211.20000076293945, 57.2001953125], [213.20000076293945, 57.2001953125], [213.20000076293945, 59.2001953125], [212.20000076293945, 64.2001953125], [209.20000076293945, 71.2001953125], [207.20000076293945, 79.2001953125], [203.20000076293945, 87.2001953125], [199.20000076293945, 94.2001953125], [195.20000076293945, 102.2001953125], [193.20000076293945, 113.2001953125], [191.20000076293945, 119.2001953125], [189.20000076293945, 126.2001953125], [187.20000076293945, 132.2001953125], [186.20000076293945, 139.2001953125], [183.20000076293945, 147.2001953125], [181.20000076293945, 155.2001953125], [177.20000076293945, 166.2001953125], [175.20000076293945, 172.2001953125], [174.20000076293945, 179.2001953125], [171.20000076293945, 185.2001953125], [170.20000076293945, 191.2001953125], [168.20000076293945, 198.2001953125], [167.20000076293945, 203.2001953125], [163.20000076293945, 211.2001953125], [161.20000076293945, 214.2001953125], [159.20000076293945, 218.2001953125], [159.20000076293945, 219.2001953125], [158.20000076293945, 222.2001953125], [157.20000076293945, 223.2001953125], [156.20000076293945, 224.2001953125], [156.20000076293945, 225.2001953125], [155.20000076293945, 225.2001953125]]\n"
          ]
        }
      ],
      "source": [
        "save_strokes_pairs = [[25.200000762939453,91.2001953125],[28.200000762939453,91.2001953125],[36.20000076293945,91.2001953125],[53.20000076293945,91.2001953125],[71.20000076293945,88.2001953125],[91.20000076293945,83.2001953125],[106.20000076293945,79.2001953125],[117.20000076293945,75.2001953125],[131.20000076293945,72.2001953125],[146.20000076293945,70.2001953125],[161.20000076293945,67.2001953125],[175.20000076293945,65.2001953125],[182.20000076293945,63.2001953125],[188.20000076293945,62.2001953125],[193.20000076293945,61.2001953125],[197.20000076293945,61.2001953125],[201.20000076293945,61.2001953125],[205.20000076293945,60.2001953125],[207.20000076293945,59.2001953125],[210.20000076293945,59.2001953125],[211.20000076293945,57.2001953125],[213.20000076293945,57.2001953125],[213.20000076293945,59.2001953125],[212.20000076293945,64.2001953125],[209.20000076293945,71.2001953125],[207.20000076293945,79.2001953125],[203.20000076293945,87.2001953125],[199.20000076293945,94.2001953125],[195.20000076293945,102.2001953125],[193.20000076293945,113.2001953125],[191.20000076293945,119.2001953125],[189.20000076293945,126.2001953125],[187.20000076293945,132.2001953125],[186.20000076293945,139.2001953125],[183.20000076293945,147.2001953125],[181.20000076293945,155.2001953125],[177.20000076293945,166.2001953125],[175.20000076293945,172.2001953125],[174.20000076293945,179.2001953125],[171.20000076293945,185.2001953125],[170.20000076293945,191.2001953125],[168.20000076293945,198.2001953125],[167.20000076293945,203.2001953125],[163.20000076293945,211.2001953125],[161.20000076293945,214.2001953125],[159.20000076293945,218.2001953125],[159.20000076293945,219.2001953125],[158.20000076293945,222.2001953125],[157.20000076293945,223.2001953125],[156.20000076293945,224.2001953125],[156.20000076293945,225.2001953125],[155.20000076293945,225.2001953125]]\n",
        "save_strokes_req = []\n",
        "for i in range(len(save_strokes_pairs)):\n",
        "    save_strokes_req.append(save_strokes_pairs[i][0])\n",
        "    save_strokes_req.append(save_strokes_pairs[i][1])\n",
        "\n",
        "print(save_strokes_pairs)"
      ]
    },
    {
      "cell_type": "code",
      "execution_count": 400,
      "metadata": {},
      "outputs": [
        {
          "name": "stdout",
          "output_type": "stream",
          "text": [
            "52\n"
          ]
        }
      ],
      "source": [
        "print(len(save_strokes_pairs))"
      ]
    },
    {
      "cell_type": "code",
      "execution_count": 401,
      "metadata": {},
      "outputs": [
        {
          "name": "stdout",
          "output_type": "stream",
          "text": [
            "[[25.200000762939453, 91.2001953125], [28.200000762939453, 91.2001953125], [36.20000076293945, 91.2001953125], [53.20000076293945, 91.2001953125], [71.20000076293945, 88.2001953125], [91.20000076293945, 83.2001953125], [106.20000076293945, 79.2001953125], [117.20000076293945, 75.2001953125], [131.20000076293945, 72.2001953125], [146.20000076293945, 70.2001953125], [161.20000076293945, 67.2001953125], [175.20000076293945, 65.2001953125], [182.20000076293945, 63.2001953125], [188.20000076293945, 62.2001953125], [193.20000076293945, 61.2001953125], [197.20000076293945, 61.2001953125], [201.20000076293945, 61.2001953125], [205.20000076293945, 60.2001953125], [207.20000076293945, 59.2001953125], [210.20000076293945, 59.2001953125], [211.20000076293945, 57.2001953125], [213.20000076293945, 57.2001953125], [213.20000076293945, 59.2001953125], [212.20000076293945, 64.2001953125], [209.20000076293945, 71.2001953125], [207.20000076293945, 79.2001953125], [203.20000076293945, 87.2001953125], [199.20000076293945, 94.2001953125], [195.20000076293945, 102.2001953125], [193.20000076293945, 113.2001953125], [191.20000076293945, 119.2001953125], [189.20000076293945, 126.2001953125], [187.20000076293945, 132.2001953125], [186.20000076293945, 139.2001953125], [183.20000076293945, 147.2001953125], [181.20000076293945, 155.2001953125], [177.20000076293945, 166.2001953125], [175.20000076293945, 172.2001953125], [174.20000076293945, 179.2001953125], [171.20000076293945, 185.2001953125], [170.20000076293945, 191.2001953125], [168.20000076293945, 198.2001953125], [167.20000076293945, 203.2001953125], [163.20000076293945, 211.2001953125], [161.20000076293945, 214.2001953125], [159.20000076293945, 218.2001953125], [159.20000076293945, 219.2001953125], [158.20000076293945, 222.2001953125], [157.20000076293945, 223.2001953125], [156.20000076293945, 224.2001953125], [156.20000076293945, 225.2001953125], [155.20000076293945, 225.2001953125]]\n"
          ]
        }
      ],
      "source": [
        "print(save_strokes_pairs)"
      ]
    },
    {
      "cell_type": "code",
      "execution_count": 402,
      "metadata": {},
      "outputs": [
        {
          "name": "stdout",
          "output_type": "stream",
          "text": [
            "(212,)\n"
          ]
        },
        {
          "data": {
            "text/plain": [
              "'\\n#TEST\\n\\nreshaped_stroke = torch.tensor([  0,   0,   0,   0,   0,   0,   0,   0,   0,   0,   0,   0,   0,   0,\\n          0,   0,   0,   0,   0,   0,   0,   0,   0,   0,   0,   0,   0,   0,\\n          0,   0,   0,   0,   0,   0,   0,   0,   0,   0,   0,   0,   0,   0,\\n          0,   0,   0,   0,   0,   0,   0,   0,   0,   0,   0,   0,   0,   0,\\n          0,   0,   0,   0,   0,   0,   0,   0,   0,   0,   0,   0,   0,   0,\\n          0,   0,   0,   0,   0,   0,   0,   0,   0,   0,   0,   0,   0,   0,\\n          0,   0,   0,   0,   0,   0,   0,   0,   0,   0,   0,   0,   0,   0,\\n          0,   0,   0,   0,   0,   0,   0,   0,   0,   0,   0,   0,   0,   0,\\n          0,   0,   0,   0,   0,   0,   0,   0,   0,   0,   0,   0,   0,   0,\\n          0,   0,   0,   0,   0,   0,   0,   0,   0,   0,   0,   0,   0,   0,\\n          0,   0,   0,   0,   0,   0,   0,   0,   0,   0,   0,   0,   0,   0,\\n          0,   0,   0,   0,   0,   0,   0,   0,   0,   0,   0,   0,   0,   0,\\n          0,   0,   0,   0,   0,   0,   0,   0,   0,   0,   0,   0,  52,  33,\\n         50,  62,  36, 132,   9, 225,   1, 245,   2, 254,  49, 254, 126, 236,\\n        201, 231, 209, 224, 212, 216, 208, 203,  87,  81,  43,  29,  21,   9,\\n         20,   0])\\n\\nprint(reshaped_stroke.shape)\\n'"
            ]
          },
          "execution_count": 402,
          "metadata": {},
          "output_type": "execute_result"
        }
      ],
      "source": [
        "# Padding the stroke with zeros at the start if needed to have 106 points\n",
        "num_points = 106\n",
        "padded_stroke = np.pad(save_strokes_pairs, ((num_points - len(save_strokes_pairs), 0), (0, 0)), mode='constant', constant_values=0)\n",
        "\n",
        "# Reshaping the padded stroke to have alternating x and y coordinates\n",
        "reshaped_stroke = padded_stroke.ravel()\n",
        "\n",
        "#print(reshaped_stroke)\n",
        "\n",
        "print(reshaped_stroke.shape)  # Output the shape of the repeated stroke\n",
        "\n",
        "'''\n",
        "#TEST\n",
        "\n",
        "reshaped_stroke = torch.tensor([  0,   0,   0,   0,   0,   0,   0,   0,   0,   0,   0,   0,   0,   0,\n",
        "          0,   0,   0,   0,   0,   0,   0,   0,   0,   0,   0,   0,   0,   0,\n",
        "          0,   0,   0,   0,   0,   0,   0,   0,   0,   0,   0,   0,   0,   0,\n",
        "          0,   0,   0,   0,   0,   0,   0,   0,   0,   0,   0,   0,   0,   0,\n",
        "          0,   0,   0,   0,   0,   0,   0,   0,   0,   0,   0,   0,   0,   0,\n",
        "          0,   0,   0,   0,   0,   0,   0,   0,   0,   0,   0,   0,   0,   0,\n",
        "          0,   0,   0,   0,   0,   0,   0,   0,   0,   0,   0,   0,   0,   0,\n",
        "          0,   0,   0,   0,   0,   0,   0,   0,   0,   0,   0,   0,   0,   0,\n",
        "          0,   0,   0,   0,   0,   0,   0,   0,   0,   0,   0,   0,   0,   0,\n",
        "          0,   0,   0,   0,   0,   0,   0,   0,   0,   0,   0,   0,   0,   0,\n",
        "          0,   0,   0,   0,   0,   0,   0,   0,   0,   0,   0,   0,   0,   0,\n",
        "          0,   0,   0,   0,   0,   0,   0,   0,   0,   0,   0,   0,   0,   0,\n",
        "          0,   0,   0,   0,   0,   0,   0,   0,   0,   0,   0,   0,  52,  33,\n",
        "         50,  62,  36, 132,   9, 225,   1, 245,   2, 254,  49, 254, 126, 236,\n",
        "        201, 231, 209, 224, 212, 216, 208, 203,  87,  81,  43,  29,  21,   9,\n",
        "         20,   0])\n",
        "\n",
        "print(reshaped_stroke.shape)\n",
        "'''"
      ]
    },
    {
      "cell_type": "code",
      "execution_count": 403,
      "metadata": {},
      "outputs": [
        {
          "name": "stdout",
          "output_type": "stream",
          "text": [
            "(5, 212)\n"
          ]
        }
      ],
      "source": [
        "# Create the new array\n",
        "new_array = np.zeros((5, 212))  # Initialize with zeros\n",
        "new_array[4] = reshaped_stroke  # Assign the reshaped_stroke to the fifth element\n",
        "\n",
        "print(new_array.shape)  # Output the shape of the new array"
      ]
    },
    {
      "cell_type": "code",
      "execution_count": 404,
      "metadata": {},
      "outputs": [
        {
          "name": "stdout",
          "output_type": "stream",
          "text": [
            "(50, 5, 212)\n",
            "[[[  0.           0.           0.         ...   0.           0.\n",
            "     0.        ]\n",
            "  [  0.           0.           0.         ...   0.           0.\n",
            "     0.        ]\n",
            "  [  0.           0.           0.         ...   0.           0.\n",
            "     0.        ]\n",
            "  [  0.           0.           0.         ...   0.           0.\n",
            "     0.        ]\n",
            "  [  0.           0.           0.         ... 225.20019531 155.20000076\n",
            "   225.20019531]]\n",
            "\n",
            " [[  0.           0.           0.         ...   0.           0.\n",
            "     0.        ]\n",
            "  [  0.           0.           0.         ...   0.           0.\n",
            "     0.        ]\n",
            "  [  0.           0.           0.         ...   0.           0.\n",
            "     0.        ]\n",
            "  [  0.           0.           0.         ...   0.           0.\n",
            "     0.        ]\n",
            "  [  0.           0.           0.         ... 225.20019531 155.20000076\n",
            "   225.20019531]]\n",
            "\n",
            " [[  0.           0.           0.         ...   0.           0.\n",
            "     0.        ]\n",
            "  [  0.           0.           0.         ...   0.           0.\n",
            "     0.        ]\n",
            "  [  0.           0.           0.         ...   0.           0.\n",
            "     0.        ]\n",
            "  [  0.           0.           0.         ...   0.           0.\n",
            "     0.        ]\n",
            "  [  0.           0.           0.         ... 225.20019531 155.20000076\n",
            "   225.20019531]]\n",
            "\n",
            " ...\n",
            "\n",
            " [[  0.           0.           0.         ...   0.           0.\n",
            "     0.        ]\n",
            "  [  0.           0.           0.         ...   0.           0.\n",
            "     0.        ]\n",
            "  [  0.           0.           0.         ...   0.           0.\n",
            "     0.        ]\n",
            "  [  0.           0.           0.         ...   0.           0.\n",
            "     0.        ]\n",
            "  [  0.           0.           0.         ... 225.20019531 155.20000076\n",
            "   225.20019531]]\n",
            "\n",
            " [[  0.           0.           0.         ...   0.           0.\n",
            "     0.        ]\n",
            "  [  0.           0.           0.         ...   0.           0.\n",
            "     0.        ]\n",
            "  [  0.           0.           0.         ...   0.           0.\n",
            "     0.        ]\n",
            "  [  0.           0.           0.         ...   0.           0.\n",
            "     0.        ]\n",
            "  [  0.           0.           0.         ... 225.20019531 155.20000076\n",
            "   225.20019531]]\n",
            "\n",
            " [[  0.           0.           0.         ...   0.           0.\n",
            "     0.        ]\n",
            "  [  0.           0.           0.         ...   0.           0.\n",
            "     0.        ]\n",
            "  [  0.           0.           0.         ...   0.           0.\n",
            "     0.        ]\n",
            "  [  0.           0.           0.         ...   0.           0.\n",
            "     0.        ]\n",
            "  [  0.           0.           0.         ... 225.20019531 155.20000076\n",
            "   225.20019531]]]\n"
          ]
        },
        {
          "data": {
            "text/plain": [
              "'\\nnew_array_212 = test_data_first_batch\\nprint(new_array_212.shape)\\n\\nprint(new_array_212)\\n'"
            ]
          },
          "execution_count": 404,
          "metadata": {},
          "output_type": "execute_result"
        }
      ],
      "source": [
        "# Create the new array with the first four elements all zero arrays\n",
        "new_array_212 = np.zeros((50, 5, 212))  \n",
        "\n",
        "# Assign the reshaped_stroke to the fifth element for all 50 samples\n",
        "new_array_212[:, 4] = np.tile(reshaped_stroke, (50, 1))\n",
        "\n",
        "print(new_array_212.shape)  # Output the shape of the new array\n",
        "\n",
        "print(new_array_212)\n",
        "\n",
        "'''\n",
        "new_array_212 = test_data_first_batch\n",
        "print(new_array_212.shape)\n",
        "\n",
        "print(new_array_212)\n",
        "'''"
      ]
    },
    {
      "cell_type": "code",
      "execution_count": 405,
      "metadata": {},
      "outputs": [],
      "source": [
        "# Convert your data to a tensor\n",
        "input_tensor = torch.tensor(new_array_212)  # Shape: (50, 5, 212)\n",
        "\n",
        "# Define batch size\n",
        "batch_size = 50\n",
        "\n",
        "# Create a DataLoader\n",
        "dataloader = DataLoader(input_tensor, batch_size=batch_size, shuffle=False)"
      ]
    },
    {
      "cell_type": "code",
      "execution_count": 371,
      "metadata": {},
      "outputs": [
        {
          "name": "stdout",
          "output_type": "stream",
          "text": [
            "1\n"
          ]
        }
      ],
      "source": [
        "print(len(dataloader))"
      ]
    },
    {
      "cell_type": "markdown",
      "metadata": {
        "id": "fNwrGgJJ_i3f"
      },
      "source": [
        "# An Example"
      ]
    },
    {
      "cell_type": "code",
      "execution_count": 372,
      "metadata": {},
      "outputs": [
        {
          "name": "stdout",
          "output_type": "stream",
          "text": [
            "212 212\n"
          ]
        },
        {
          "data": {
            "text/plain": [
              "<All keys matched successfully>"
            ]
          },
          "execution_count": 372,
          "metadata": {},
          "output_type": "execute_result"
        }
      ],
      "source": [
        "import io\n",
        "\n",
        "input_size  = doodles.shape[-1]\n",
        "output_size = doodles.shape[-1]\n",
        "\n",
        "print(input_size, output_size)\n",
        "\n",
        "model = SketchRNN(input_size=input_size, hidden_size=hidden_size, latent_size=latent_size, output_size=output_size)\n",
        "\n",
        "criterion = nn.MSELoss()\n",
        "optimizer = torch.optim.Adam(model.parameters(), lr=lr)\n",
        "\n",
        "model_path = \"triangle.pth\"\n",
        "\n",
        "buffer = io.BytesIO()\n",
        "torch.save(torch.load(model_path, map_location=torch.device('cpu')), buffer)\n",
        "buffer.seek(0)\n",
        "\n",
        "model.load_state_dict(torch.load(buffer))"
      ]
    },
    {
      "cell_type": "code",
      "execution_count": 406,
      "metadata": {},
      "outputs": [],
      "source": [
        "# Extract x and y coordinates\n",
        "def plot(next_stroke_info_in, next_stroke_info_out):\n",
        "    x_coords_in = next_stroke_info_in[::2]  # Every other element starting from index 0 (x coordinates)\n",
        "    y_coords_in = next_stroke_info_in[1::2]  # Every other element starting from index 1 (y coordinates)\n",
        "\n",
        "    # Plot the points\n",
        "    plt.figure(figsize=(6, 6))\n",
        "    plt.plot(x_coords_in[:], y_coords_in[:], marker='o', linestyle='-', color='r')\n",
        "    plt.title('Plot of X and Y coordinates INPUT')\n",
        "    plt.xlabel('X')\n",
        "    plt.ylabel('Y')\n",
        "    plt.gca().invert_yaxis()  # Invert y-axis if needed\n",
        "    plt.show()\n",
        "\n",
        "    x_coords_out = next_stroke_info_out[::2]  # Every other element starting from index 0 (x coordinates)\n",
        "    y_coords_out = next_stroke_info_out[1::2]  # Every other element starting from index 1 (y coordinates)\n",
        "\n",
        "    # Plot the points\n",
        "    plt.figure(figsize=(6, 6))\n",
        "    plt.plot(x_coords_out[-3:], [y * 2 for y in y_coords_out[-3:]], marker='o', linestyle='-', color='b')\n",
        "    plt.plot(x_coords_out[-2:], [y * 2 for y in y_coords_out[-2:]], marker='o', linestyle='-', color='r')\n",
        "    plt.title('Plot of X and Y coordinates OUTPUT')\n",
        "    plt.xlabel('X')\n",
        "    plt.ylabel('Y')\n",
        "    plt.gca().invert_yaxis()  # Invert y-axis if needed\n",
        "    plt.show()"
      ]
    },
    {
      "cell_type": "code",
      "execution_count": 407,
      "metadata": {},
      "outputs": [],
      "source": [
        "def test_user_model_with_output(model, test_loader):\n",
        "    # Test\n",
        "    model.eval()  # Set model to evaluation mode\n",
        "\n",
        "    with torch.no_grad():  # Disable gradient tracking for validation\n",
        "        for batch in test_loader:\n",
        "            save_strokes = batch.float()\n",
        "            print(\"save strokes 1st stroke\", save_strokes.shape)\n",
        "            output = model(save_strokes)\n",
        "            #print(\"output: \", output)\n",
        "            output = output.view(save_strokes.shape[0], -1, output.size(2))\n",
        "\n",
        "            img = save_strokes[0, :max_doodle_len-1-1]\n",
        "            pred = output[0, max_doodle_len-1-1].reshape(1, -1)\n",
        "            print(\"shape of pred\", pred.shape, \"img shape\", img.shape)\n",
        "            viz = torch.floor(torch.cat([img, pred])).numpy()\n",
        "            viz[viz < 0] = 0\n",
        "            #draw_strokes_real_time_for_viz(viz)\n",
        "            #print(pred.shape)\n",
        "\n",
        "            last_batch_output = output[-1]\n",
        "\n",
        "            # Extracting the next stroke info for the last batch\n",
        "            next_stroke_info = last_batch_output[-1]\n",
        "\n",
        "            print(next_stroke_info.shape)\n",
        "\n",
        "            plot(reshaped_stroke, next_stroke_info)\n",
        "\n",
        "            break"
      ]
    },
    {
      "cell_type": "code",
      "execution_count": 408,
      "metadata": {},
      "outputs": [
        {
          "name": "stdout",
          "output_type": "stream",
          "text": [
            "save strokes 1st stroke torch.Size([50, 5, 212])\n",
            "shape of pred torch.Size([1, 212]) img shape torch.Size([3, 212])\n",
            "torch.Size([212])\n"
          ]
        },
        {
          "data": {
            "image/png": "[encoded data removed]",
            "text/plain": [
              "<Figure size 600x600 with 1 Axes>"
            ]
          },
          "metadata": {},
          "output_type": "display_data"
        },
        {
          "data": {
            "image/png": "[encoded data removed]",
            "text/plain": [
              "<Figure size 600x600 with 1 Axes>"
            ]
          },
          "metadata": {},
          "output_type": "display_data"
        }
      ],
      "source": [
        "test_user_model_with_output(model, dataloader)"
      ]
    },
    {
      "cell_type": "markdown",
      "metadata": {},
      "source": [
        "# Test"
      ]
    },
    {
      "cell_type": "code",
      "execution_count": 49,
      "metadata": {
        "id": "nLXDBOd2_i3g"
      },
      "outputs": [],
      "source": [
        "def test_model_with_output(model, test_loader):\n",
        "    # Test\n",
        "    model.eval()  # Set model to evaluation mode\n",
        "\n",
        "    with torch.no_grad():  # Disable gradient tracking for validation\n",
        "        for batch in test_loader:\n",
        "            save_strokes = batch.float()\n",
        "            print(\"save strokes 1st stroke\", save_strokes)\n",
        "            output = model(save_strokes)\n",
        "            print(\"output: \", output)\n",
        "            output = output.view(save_strokes.shape[0], -1, output.size(2))\n",
        "\n",
        "            img = save_strokes[0, :max_doodle_len-1-1]\n",
        "            pred = output[0, max_doodle_len-1-1].reshape(1, -1)\n",
        "            print(\"shape of pred\", pred.shape, \"img shape\", img.shape)\n",
        "            viz = torch.floor(torch.cat([img, pred])).numpy()\n",
        "            viz[viz < 0] = 0\n",
        "            #draw_strokes_real_time_for_viz(viz)\n",
        "            # print(viz[-1])\n",
        "            break\n"
      ]
    },
    {
      "cell_type": "code",
      "execution_count": null,
      "metadata": {},
      "outputs": [],
      "source": [
        "test_model_with_output(model, test_loader)"
      ]
    },
    {
      "cell_type": "markdown",
      "metadata": {},
      "source": [
        "# Passing input to the model \n"
      ]
    },
    {
      "cell_type": "code",
      "execution_count": 156,
      "metadata": {},
      "outputs": [
        {
          "ename": "ValueError",
          "evalue": "LSTM: Expected input to be 2D or 3D, got 1D instead",
          "output_type": "error",
          "traceback": [
            "\u001b[1;31m---------------------------------------------------------------------------\u001b[0m",
            "\u001b[1;31mValueError\u001b[0m                                Traceback (most recent call last)",
            "Cell \u001b[1;32mIn[156], line 4\u001b[0m\n\u001b[0;32m      2\u001b[0m \u001b[38;5;28;01mwith\u001b[39;00m torch\u001b[38;5;241m.\u001b[39mno_grad():  \u001b[38;5;66;03m# Disable gradient tracking\u001b[39;00m\n\u001b[0;32m      3\u001b[0m     model\u001b[38;5;241m.\u001b[39meval()  \u001b[38;5;66;03m# Set model to evaluation mode\u001b[39;00m\n\u001b[1;32m----> 4\u001b[0m     output_stroke_tensor \u001b[38;5;241m=\u001b[39m \u001b[43mmodel\u001b[49m\u001b[43m(\u001b[49m\u001b[43minput_stroke_tensor\u001b[49m\u001b[43m)\u001b[49m\n\u001b[0;32m      6\u001b[0m \u001b[38;5;66;03m# Extract the output stroke tensor\u001b[39;00m\n\u001b[0;32m      7\u001b[0m output_stroke_tensor \u001b[38;5;241m=\u001b[39m output_stroke_tensor\u001b[38;5;241m.\u001b[39msqueeze(\u001b[38;5;241m0\u001b[39m)  \u001b[38;5;66;03m# Remove batch dimension\u001b[39;00m\n",
            "File \u001b[1;32mc:\\Python312\\Lib\\site-packages\\torch\\nn\\modules\\module.py:1511\u001b[0m, in \u001b[0;36mModule._wrapped_call_impl\u001b[1;34m(self, *args, **kwargs)\u001b[0m\n\u001b[0;32m   1509\u001b[0m     \u001b[38;5;28;01mreturn\u001b[39;00m \u001b[38;5;28mself\u001b[39m\u001b[38;5;241m.\u001b[39m_compiled_call_impl(\u001b[38;5;241m*\u001b[39margs, \u001b[38;5;241m*\u001b[39m\u001b[38;5;241m*\u001b[39mkwargs)  \u001b[38;5;66;03m# type: ignore[misc]\u001b[39;00m\n\u001b[0;32m   1510\u001b[0m \u001b[38;5;28;01melse\u001b[39;00m:\n\u001b[1;32m-> 1511\u001b[0m     \u001b[38;5;28;01mreturn\u001b[39;00m \u001b[38;5;28;43mself\u001b[39;49m\u001b[38;5;241;43m.\u001b[39;49m\u001b[43m_call_impl\u001b[49m\u001b[43m(\u001b[49m\u001b[38;5;241;43m*\u001b[39;49m\u001b[43margs\u001b[49m\u001b[43m,\u001b[49m\u001b[43m \u001b[49m\u001b[38;5;241;43m*\u001b[39;49m\u001b[38;5;241;43m*\u001b[39;49m\u001b[43mkwargs\u001b[49m\u001b[43m)\u001b[49m\n",
            "File \u001b[1;32mc:\\Python312\\Lib\\site-packages\\torch\\nn\\modules\\module.py:1520\u001b[0m, in \u001b[0;36mModule._call_impl\u001b[1;34m(self, *args, **kwargs)\u001b[0m\n\u001b[0;32m   1515\u001b[0m \u001b[38;5;66;03m# If we don't have any hooks, we want to skip the rest of the logic in\u001b[39;00m\n\u001b[0;32m   1516\u001b[0m \u001b[38;5;66;03m# this function, and just call forward.\u001b[39;00m\n\u001b[0;32m   1517\u001b[0m \u001b[38;5;28;01mif\u001b[39;00m \u001b[38;5;129;01mnot\u001b[39;00m (\u001b[38;5;28mself\u001b[39m\u001b[38;5;241m.\u001b[39m_backward_hooks \u001b[38;5;129;01mor\u001b[39;00m \u001b[38;5;28mself\u001b[39m\u001b[38;5;241m.\u001b[39m_backward_pre_hooks \u001b[38;5;129;01mor\u001b[39;00m \u001b[38;5;28mself\u001b[39m\u001b[38;5;241m.\u001b[39m_forward_hooks \u001b[38;5;129;01mor\u001b[39;00m \u001b[38;5;28mself\u001b[39m\u001b[38;5;241m.\u001b[39m_forward_pre_hooks\n\u001b[0;32m   1518\u001b[0m         \u001b[38;5;129;01mor\u001b[39;00m _global_backward_pre_hooks \u001b[38;5;129;01mor\u001b[39;00m _global_backward_hooks\n\u001b[0;32m   1519\u001b[0m         \u001b[38;5;129;01mor\u001b[39;00m _global_forward_hooks \u001b[38;5;129;01mor\u001b[39;00m _global_forward_pre_hooks):\n\u001b[1;32m-> 1520\u001b[0m     \u001b[38;5;28;01mreturn\u001b[39;00m \u001b[43mforward_call\u001b[49m\u001b[43m(\u001b[49m\u001b[38;5;241;43m*\u001b[39;49m\u001b[43margs\u001b[49m\u001b[43m,\u001b[49m\u001b[43m \u001b[49m\u001b[38;5;241;43m*\u001b[39;49m\u001b[38;5;241;43m*\u001b[39;49m\u001b[43mkwargs\u001b[49m\u001b[43m)\u001b[49m\n\u001b[0;32m   1522\u001b[0m \u001b[38;5;28;01mtry\u001b[39;00m:\n\u001b[0;32m   1523\u001b[0m     result \u001b[38;5;241m=\u001b[39m \u001b[38;5;28;01mNone\u001b[39;00m\n",
            "Cell \u001b[1;32mIn[21], line 8\u001b[0m, in \u001b[0;36mSketchRNN.forward\u001b[1;34m(self, x)\u001b[0m\n\u001b[0;32m      7\u001b[0m \u001b[38;5;28;01mdef\u001b[39;00m \u001b[38;5;21mforward\u001b[39m(\u001b[38;5;28mself\u001b[39m, x):\n\u001b[1;32m----> 8\u001b[0m     latent_representation \u001b[38;5;241m=\u001b[39m \u001b[38;5;28;43mself\u001b[39;49m\u001b[38;5;241;43m.\u001b[39;49m\u001b[43mencoder\u001b[49m\u001b[43m(\u001b[49m\u001b[43mx\u001b[49m\u001b[43m)\u001b[49m\n\u001b[0;32m      9\u001b[0m     \u001b[38;5;66;03m# Replicate latent representation to match batch size of input data\u001b[39;00m\n\u001b[0;32m     10\u001b[0m     latent_representation \u001b[38;5;241m=\u001b[39m latent_representation\u001b[38;5;241m.\u001b[39munsqueeze(\u001b[38;5;241m1\u001b[39m)\u001b[38;5;241m.\u001b[39mrepeat(\u001b[38;5;241m1\u001b[39m, x\u001b[38;5;241m.\u001b[39msize(\u001b[38;5;241m1\u001b[39m), \u001b[38;5;241m1\u001b[39m)\n",
            "File \u001b[1;32mc:\\Python312\\Lib\\site-packages\\torch\\nn\\modules\\module.py:1511\u001b[0m, in \u001b[0;36mModule._wrapped_call_impl\u001b[1;34m(self, *args, **kwargs)\u001b[0m\n\u001b[0;32m   1509\u001b[0m     \u001b[38;5;28;01mreturn\u001b[39;00m \u001b[38;5;28mself\u001b[39m\u001b[38;5;241m.\u001b[39m_compiled_call_impl(\u001b[38;5;241m*\u001b[39margs, \u001b[38;5;241m*\u001b[39m\u001b[38;5;241m*\u001b[39mkwargs)  \u001b[38;5;66;03m# type: ignore[misc]\u001b[39;00m\n\u001b[0;32m   1510\u001b[0m \u001b[38;5;28;01melse\u001b[39;00m:\n\u001b[1;32m-> 1511\u001b[0m     \u001b[38;5;28;01mreturn\u001b[39;00m \u001b[38;5;28;43mself\u001b[39;49m\u001b[38;5;241;43m.\u001b[39;49m\u001b[43m_call_impl\u001b[49m\u001b[43m(\u001b[49m\u001b[38;5;241;43m*\u001b[39;49m\u001b[43margs\u001b[49m\u001b[43m,\u001b[49m\u001b[43m \u001b[49m\u001b[38;5;241;43m*\u001b[39;49m\u001b[38;5;241;43m*\u001b[39;49m\u001b[43mkwargs\u001b[49m\u001b[43m)\u001b[49m\n",
            "File \u001b[1;32mc:\\Python312\\Lib\\site-packages\\torch\\nn\\modules\\module.py:1520\u001b[0m, in \u001b[0;36mModule._call_impl\u001b[1;34m(self, *args, **kwargs)\u001b[0m\n\u001b[0;32m   1515\u001b[0m \u001b[38;5;66;03m# If we don't have any hooks, we want to skip the rest of the logic in\u001b[39;00m\n\u001b[0;32m   1516\u001b[0m \u001b[38;5;66;03m# this function, and just call forward.\u001b[39;00m\n\u001b[0;32m   1517\u001b[0m \u001b[38;5;28;01mif\u001b[39;00m \u001b[38;5;129;01mnot\u001b[39;00m (\u001b[38;5;28mself\u001b[39m\u001b[38;5;241m.\u001b[39m_backward_hooks \u001b[38;5;129;01mor\u001b[39;00m \u001b[38;5;28mself\u001b[39m\u001b[38;5;241m.\u001b[39m_backward_pre_hooks \u001b[38;5;129;01mor\u001b[39;00m \u001b[38;5;28mself\u001b[39m\u001b[38;5;241m.\u001b[39m_forward_hooks \u001b[38;5;129;01mor\u001b[39;00m \u001b[38;5;28mself\u001b[39m\u001b[38;5;241m.\u001b[39m_forward_pre_hooks\n\u001b[0;32m   1518\u001b[0m         \u001b[38;5;129;01mor\u001b[39;00m _global_backward_pre_hooks \u001b[38;5;129;01mor\u001b[39;00m _global_backward_hooks\n\u001b[0;32m   1519\u001b[0m         \u001b[38;5;129;01mor\u001b[39;00m _global_forward_hooks \u001b[38;5;129;01mor\u001b[39;00m _global_forward_pre_hooks):\n\u001b[1;32m-> 1520\u001b[0m     \u001b[38;5;28;01mreturn\u001b[39;00m \u001b[43mforward_call\u001b[49m\u001b[43m(\u001b[49m\u001b[38;5;241;43m*\u001b[39;49m\u001b[43margs\u001b[49m\u001b[43m,\u001b[49m\u001b[43m \u001b[49m\u001b[38;5;241;43m*\u001b[39;49m\u001b[38;5;241;43m*\u001b[39;49m\u001b[43mkwargs\u001b[49m\u001b[43m)\u001b[49m\n\u001b[0;32m   1522\u001b[0m \u001b[38;5;28;01mtry\u001b[39;00m:\n\u001b[0;32m   1523\u001b[0m     result \u001b[38;5;241m=\u001b[39m \u001b[38;5;28;01mNone\u001b[39;00m\n",
            "Cell \u001b[1;32mIn[19], line 9\u001b[0m, in \u001b[0;36mEncoder.forward\u001b[1;34m(self, x)\u001b[0m\n\u001b[0;32m      7\u001b[0m \u001b[38;5;28;01mdef\u001b[39;00m \u001b[38;5;21mforward\u001b[39m(\u001b[38;5;28mself\u001b[39m, x):\n\u001b[0;32m      8\u001b[0m     \u001b[38;5;66;03m# print(\"Encoder input shape\", x.shape)\u001b[39;00m\n\u001b[1;32m----> 9\u001b[0m     _, (h, _) \u001b[38;5;241m=\u001b[39m \u001b[38;5;28;43mself\u001b[39;49m\u001b[38;5;241;43m.\u001b[39;49m\u001b[43mrnn\u001b[49m\u001b[43m(\u001b[49m\u001b[43mx\u001b[49m\u001b[43m)\u001b[49m\n\u001b[0;32m     10\u001b[0m     latent_representation \u001b[38;5;241m=\u001b[39m \u001b[38;5;28mself\u001b[39m\u001b[38;5;241m.\u001b[39mfc(h\u001b[38;5;241m.\u001b[39msqueeze(\u001b[38;5;241m0\u001b[39m))\n\u001b[0;32m     11\u001b[0m     \u001b[38;5;66;03m# print(\"Encoder latent state shape\", latent_representation.shape)\u001b[39;00m\n",
            "File \u001b[1;32mc:\\Python312\\Lib\\site-packages\\torch\\nn\\modules\\module.py:1511\u001b[0m, in \u001b[0;36mModule._wrapped_call_impl\u001b[1;34m(self, *args, **kwargs)\u001b[0m\n\u001b[0;32m   1509\u001b[0m     \u001b[38;5;28;01mreturn\u001b[39;00m \u001b[38;5;28mself\u001b[39m\u001b[38;5;241m.\u001b[39m_compiled_call_impl(\u001b[38;5;241m*\u001b[39margs, \u001b[38;5;241m*\u001b[39m\u001b[38;5;241m*\u001b[39mkwargs)  \u001b[38;5;66;03m# type: ignore[misc]\u001b[39;00m\n\u001b[0;32m   1510\u001b[0m \u001b[38;5;28;01melse\u001b[39;00m:\n\u001b[1;32m-> 1511\u001b[0m     \u001b[38;5;28;01mreturn\u001b[39;00m \u001b[38;5;28;43mself\u001b[39;49m\u001b[38;5;241;43m.\u001b[39;49m\u001b[43m_call_impl\u001b[49m\u001b[43m(\u001b[49m\u001b[38;5;241;43m*\u001b[39;49m\u001b[43margs\u001b[49m\u001b[43m,\u001b[49m\u001b[43m \u001b[49m\u001b[38;5;241;43m*\u001b[39;49m\u001b[38;5;241;43m*\u001b[39;49m\u001b[43mkwargs\u001b[49m\u001b[43m)\u001b[49m\n",
            "File \u001b[1;32mc:\\Python312\\Lib\\site-packages\\torch\\nn\\modules\\module.py:1520\u001b[0m, in \u001b[0;36mModule._call_impl\u001b[1;34m(self, *args, **kwargs)\u001b[0m\n\u001b[0;32m   1515\u001b[0m \u001b[38;5;66;03m# If we don't have any hooks, we want to skip the rest of the logic in\u001b[39;00m\n\u001b[0;32m   1516\u001b[0m \u001b[38;5;66;03m# this function, and just call forward.\u001b[39;00m\n\u001b[0;32m   1517\u001b[0m \u001b[38;5;28;01mif\u001b[39;00m \u001b[38;5;129;01mnot\u001b[39;00m (\u001b[38;5;28mself\u001b[39m\u001b[38;5;241m.\u001b[39m_backward_hooks \u001b[38;5;129;01mor\u001b[39;00m \u001b[38;5;28mself\u001b[39m\u001b[38;5;241m.\u001b[39m_backward_pre_hooks \u001b[38;5;129;01mor\u001b[39;00m \u001b[38;5;28mself\u001b[39m\u001b[38;5;241m.\u001b[39m_forward_hooks \u001b[38;5;129;01mor\u001b[39;00m \u001b[38;5;28mself\u001b[39m\u001b[38;5;241m.\u001b[39m_forward_pre_hooks\n\u001b[0;32m   1518\u001b[0m         \u001b[38;5;129;01mor\u001b[39;00m _global_backward_pre_hooks \u001b[38;5;129;01mor\u001b[39;00m _global_backward_hooks\n\u001b[0;32m   1519\u001b[0m         \u001b[38;5;129;01mor\u001b[39;00m _global_forward_hooks \u001b[38;5;129;01mor\u001b[39;00m _global_forward_pre_hooks):\n\u001b[1;32m-> 1520\u001b[0m     \u001b[38;5;28;01mreturn\u001b[39;00m \u001b[43mforward_call\u001b[49m\u001b[43m(\u001b[49m\u001b[38;5;241;43m*\u001b[39;49m\u001b[43margs\u001b[49m\u001b[43m,\u001b[49m\u001b[43m \u001b[49m\u001b[38;5;241;43m*\u001b[39;49m\u001b[38;5;241;43m*\u001b[39;49m\u001b[43mkwargs\u001b[49m\u001b[43m)\u001b[49m\n\u001b[0;32m   1522\u001b[0m \u001b[38;5;28;01mtry\u001b[39;00m:\n\u001b[0;32m   1523\u001b[0m     result \u001b[38;5;241m=\u001b[39m \u001b[38;5;28;01mNone\u001b[39;00m\n",
            "File \u001b[1;32mc:\\Python312\\Lib\\site-packages\\torch\\nn\\modules\\rnn.py:844\u001b[0m, in \u001b[0;36mLSTM.forward\u001b[1;34m(self, input, hx)\u001b[0m\n\u001b[0;32m    842\u001b[0m \u001b[38;5;28;01melse\u001b[39;00m:\n\u001b[0;32m    843\u001b[0m     \u001b[38;5;28;01mif\u001b[39;00m \u001b[38;5;28minput\u001b[39m\u001b[38;5;241m.\u001b[39mdim() \u001b[38;5;129;01mnot\u001b[39;00m \u001b[38;5;129;01min\u001b[39;00m (\u001b[38;5;241m2\u001b[39m, \u001b[38;5;241m3\u001b[39m):\n\u001b[1;32m--> 844\u001b[0m         \u001b[38;5;28;01mraise\u001b[39;00m \u001b[38;5;167;01mValueError\u001b[39;00m(\u001b[38;5;124mf\u001b[39m\u001b[38;5;124m\"\u001b[39m\u001b[38;5;124mLSTM: Expected input to be 2D or 3D, got \u001b[39m\u001b[38;5;132;01m{\u001b[39;00m\u001b[38;5;28minput\u001b[39m\u001b[38;5;241m.\u001b[39mdim()\u001b[38;5;132;01m}\u001b[39;00m\u001b[38;5;124mD instead\u001b[39m\u001b[38;5;124m\"\u001b[39m)\n\u001b[0;32m    845\u001b[0m     is_batched \u001b[38;5;241m=\u001b[39m \u001b[38;5;28minput\u001b[39m\u001b[38;5;241m.\u001b[39mdim() \u001b[38;5;241m==\u001b[39m \u001b[38;5;241m3\u001b[39m\n\u001b[0;32m    846\u001b[0m     batch_dim \u001b[38;5;241m=\u001b[39m \u001b[38;5;241m0\u001b[39m \u001b[38;5;28;01mif\u001b[39;00m \u001b[38;5;28mself\u001b[39m\u001b[38;5;241m.\u001b[39mbatch_first \u001b[38;5;28;01melse\u001b[39;00m \u001b[38;5;241m1\u001b[39m\n",
            "\u001b[1;31mValueError\u001b[0m: LSTM: Expected input to be 2D or 3D, got 1D instead"
          ]
        }
      ],
      "source": [
        "# Pass the input stroke tensor through the model\n",
        "with torch.no_grad():  # Disable gradient tracking\n",
        "    model.eval()  # Set model to evaluation mode\n",
        "    output_stroke_tensor = model(input_stroke_tensor)\n",
        "\n",
        "# Extract the output stroke tensor\n",
        "output_stroke_tensor = output_stroke_tensor.squeeze(0)  # Remove batch dimension\n",
        "print(\"Output shape:\", output_stroke_tensor.shape)\n",
        "\n",
        "# Convert the output stroke tensor to a numpy array\n",
        "output_stroke_np = output_stroke_tensor.numpy()\n",
        "\n",
        "# Print the output stroke\n",
        "#print(\"Output stroke:\", output_stroke_np)"
      ]
    },
    {
      "cell_type": "code",
      "execution_count": 107,
      "metadata": {},
      "outputs": [],
      "source": [
        "def visualize_output_stroke(output_stroke):\n",
        "    # Calculate the min and max values of x and y coordinates\n",
        "    min_x = min(output_stroke[:, ::2].flatten())\n",
        "    max_x = max(output_stroke[:, ::2].flatten())\n",
        "    min_y = min(output_stroke[:, 1::2].flatten())\n",
        "    max_y = max(output_stroke[:, 1::2].flatten())\n",
        "    \n",
        "    # Calculate the scaling factor\n",
        "    scale_factor = 200 / max(max_x - min_x, max_y - min_y)\n",
        "    \n",
        "    # Create SVG drawing\n",
        "    dwg = svgwrite.Drawing(size=(250, 250))\n",
        "    \n",
        "    # Draw each stroke\n",
        "    for stroke in output_stroke:\n",
        "        points = [(int((stroke[i] - min_x) * scale_factor), int((stroke[i + 1] - min_y) * scale_factor)) for i in range(0, len(stroke), 2)]\n",
        "        polyline = dwg.polyline(points, stroke=\"black\", fill=\"none\", stroke_width=2)\n",
        "        dwg.add(polyline)\n",
        "    \n",
        "    display(SVG(dwg.tostring()))"
      ]
    },
    {
      "cell_type": "code",
      "execution_count": 108,
      "metadata": {},
      "outputs": [
        {
          "data": {
            "image/svg+xml": [
              "<svg xmlns=\"http://www.w3.org/2000/svg\" xmlns:ev=\"http://www.w3.org/2001/xml-events\" xmlns:xlink=\"http://www.w3.org/1999/xlink\" baseProfile=\"full\" height=\"250\" version=\"1.1\" width=\"250\"><defs/><polyline fill=\"none\" points=\"67,123 67,123 67,123 67,123 68,123 67,123 68,123 68,123 68,123 67,123 68,123 68,123 67,123 68,123 68,123 68,123 68,123 68,123 68,123 68,123 68,123 68,123 68,123 68,123 68,123 68,123 68,123 68,123 68,123 68,123 68,123 68,123 68,123 68,123 69,124 69,124 69,124 69,123 69,124 68,124 70,124 70,127 71,126 71,126 71,125 72,126 73,126 74,127 75,127 76,128 76,128 76,129 77,129 77,130 77,133 79,135 79,135 78,135 80,138 80,136 80,135 81,134 84,136 84,135 83,135 86,136 87,139 85,141 87,143 85,142 81,140 83,138 84,137 82,133 79,131 73,123 68,113 63,106 53,101 48,104 48,114 49,137 53,151 51,124 42,37 50,119 32,34 17,28 90,105 55,99 33,114 11,59 62,103 2,113 53,143 94,129 89,88 78,25 68,0 165,200 59,46 75,173 86,84 0,186 8,121 73,51\" stroke=\"black\" stroke-width=\"2\"/></svg>"
            ],
            "text/plain": [
              "<IPython.core.display.SVG object>"
            ]
          },
          "metadata": {},
          "output_type": "display_data"
        }
      ],
      "source": [
        "visualize_output_stroke(output_stroke_np)"
      ]
    },
    {
      "cell_type": "markdown",
      "metadata": {},
      "source": [
        "# Taking user input and loading multiclass models"
      ]
    },
    {
      "cell_type": "code",
      "execution_count": 109,
      "metadata": {},
      "outputs": [],
      "source": [
        "dataset_paths = {\n",
        "    \"cat\": \"cat.pth\",\n",
        "    \"pig\": \"pig.pth\",\n",
        "    \"cow\": \"cow.pth\",\n",
        "    \"smileface\": \"smileface.pth\",\n",
        "    \"lion\": \"lion.pth\",\n",
        "    \"monkey\": \"monkey.pth\"\n",
        "}"
      ]
    },
    {
      "cell_type": "code",
      "execution_count": null,
      "metadata": {},
      "outputs": [],
      "source": [
        "user_input = input(\"Enter the dataset name: \")\n",
        "\n",
        "if user_input in dataset_paths:\n",
        "    file_path = dataset_paths[user_input]\n",
        "    model = torch.load(file_path)\n",
        "    print(f\"Model loaded successfully from {file_path}\")\n",
        "else:\n",
        "    print(\"Invalid dataset name. Please choose from: cat, pig, cow, smileface, lion, monkey\")"
      ]
    }
  ],
  "metadata": {
    "colab": {
      "collapsed_sections": [
        "vLW2SPCPhEAm"
      ],
      "provenance": []
    },
    "kernelspec": {
      "display_name": "Python 3",
      "name": "python3"
    },
    "language_info": {
      "codemirror_mode": {
        "name": "ipython",
        "version": 3
      },
      "file_extension": ".py",
      "mimetype": "text/x-python",
      "name": "python",
      "nbconvert_exporter": "python",
      "pygments_lexer": "ipython3",
      "version": "3.12.2"
    }
  },
  "nbformat": 4,
  "nbformat_minor": 0
}
